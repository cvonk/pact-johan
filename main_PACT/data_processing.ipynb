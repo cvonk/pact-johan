{
 "cells": [
  {
   "cell_type": "code",
   "execution_count": 1,
   "metadata": {},
   "outputs": [],
   "source": [
    "# Copyright © 2020, Johan Vonk\n",
    "# SPDX-License-Identifier: MIT"
   ]
  },
  {
   "cell_type": "code",
   "execution_count": 2,
   "metadata": {},
   "outputs": [],
   "source": [
    "%matplotlib inline\n",
    "import numpy as np\n",
    "import pandas as pd\n",
    "import math\n",
    "import matplotlib.pyplot as plt\n",
    "from sklearn.manifold import MDS\n",
    "from sklearn.metrics import pairwise_distances\n",
    "import paho.mqtt.client as mqtt\n",
    "from threading import Timer\n",
    "import json\n",
    "from config import username, password\n",
    "import seaborn as sns"
   ]
  },
  {
   "cell_type": "code",
   "execution_count": 3,
   "metadata": {},
   "outputs": [
    {
     "data": {
      "text/plain": [
       "<matplotlib.quiver.Quiver at 0x15fa93c1c48>"
      ]
     },
     "execution_count": 3,
     "metadata": {},
     "output_type": "execute_result"
    },
    {
     "data": {
      "image/png": "[encoded data removed]",
      "text/plain": [
       "<Figure size 432x288 with 1 Axes>"
      ]
     },
     "metadata": {
      "needs_background": "light"
     },
     "output_type": "display_data"
    }
   ],
   "source": [
    "measured=np.array([\n",
    "    [0, 37.9, 92.2, 95.2, 56.6, 95.5, 73.5, 56.7, 121.2, 73.9],\n",
    "    [0, 0, 54.7, 71.8, 44.4, 59.4, 41.6, 21.9, 89.5, 46.8],\n",
    "    [0, 0, 0, 60.3, 67.6, 27.3, 45.8, 42.3, 65.1, 43.5],\n",
    "    [0, 0, 0, 0, 40.4, 87.1, 94.8, 78.9, 125.4, 25.4],\n",
    "    [0, 0, 0, 0, 0, 86.9, 81.3, 61.5, 123.0, 28.0],\n",
    "    [0, 0, 0, 0, 0, 0, 29.1, 39.1, 28.3, 67.2],\n",
    "    [0, 0, 0, 0, 0, 0, 0, 20.6, 48.6, 70.0],\n",
    "    [0, 0, 0, 0, 0, 0, 0, 0, 67.6, 53.5],\n",
    "    [0, 0, 0, 0, 0, 0, 0, 0, 0, 105.5],\n",
    "    [0, 0, 0, 0, 0, 0, 0, 0, 0, 0],\n",
    "])\n",
    "measured*=0.0254\n",
    "measured+=measured.T\n",
    "model = MDS(n_components=2, metric=True, dissimilarity='precomputed', random_state=1, n_init=1000, max_iter=1000)\n",
    "positions = model.fit_transform(measured)\n",
    "positions -= positions[8]\n",
    "positions[:, 1]*=-1\n",
    "theta=np.radians(221)+math.atan2(positions[5,1],positions[5,0])\n",
    "positions=positions.dot([[np.cos(theta), -np.sin(theta)],\n",
    "                         [np.sin(theta),  np.cos(theta)]])\n",
    "positions[:,0]-=positions[3,0]\n",
    "angles=np.radians([18,9,-18,135,156,-59,-23,77,-90,62])\n",
    "plt.quiver(positions[:,0], positions[:,1], np.cos(angles), np.sin(angles))"
   ]
  },
  {
   "cell_type": "code",
   "execution_count": 4,
   "metadata": {},
   "outputs": [],
   "source": [
    "devices=pd.DataFrame(columns=(\"name\", \"address\", \"version\", \"date\"))\n",
    "df=pd.DataFrame(columns=(\"TIMESTAMP\",\"SCANNER\",\"ADVERTISER\",\"TX POWER\",\"RSSI\",\"DISTANCE\",\"ANGLE\"))\n",
    "class RepeatTimer(Timer):\n",
    "    def run(self):\n",
    "        while not self.finished.wait(self.interval):\n",
    "            self.function(*self.args, **self.kwargs)\n",
    "\n",
    "def switch_devices(client, devices):\n",
    "    for device,payload in zip(devices[\"name\"],np.random.choice(['scan', 'adv'],len(devices))):\n",
    "        client.publish(\"blescan/ctrl/\"+device, payload=payload)\n",
    "\n",
    "def on_connect(client, userdata, flags, rc):\n",
    "    client.subscribe(\"blescan/data/#\")\n",
    "    client.publish(\"blescan/ctrl\", payload=\"who\")\n",
    "    client.publish(\"blescan/ctrl\", payload=\"int 2\")\n",
    "\n",
    "def on_message(client, userdata, msg):\n",
    "    source=msg.topic.rsplit('/', 1)[-1]\n",
    "    data = json.loads(msg.payload.decode('ASCII').replace('\"\"','\"'))\n",
    "    if \"name\" in data and data[\"name\"] not in devices[\"name\"].values:\n",
    "        devices.loc[len(devices)]=[data[\"name\"],data[\"address\"],data[\"version\"],data[\"date\"]]\n",
    "    elif \"RSSI\" in data and data[\"address\"] in devices[\"address\"].values and source in devices[\"name\"].values:\n",
    "        sc_pos=positions[int(source.replace(\"esp32-\",\"\"))-1]\n",
    "        advertiser=devices[devices['address']==data['address']]['name'].values[0]\n",
    "        ad_pos=positions[int(advertiser.replace(\"esp32-\",\"\"))-1]\n",
    "        dx=sc_pos[0]-ad_pos[0]\n",
    "        dy=sc_pos[1]-ad_pos[1]\n",
    "        df.loc[len(df)]=[pd.Timestamp.now(),source,advertiser,data[\"txPwr\"],data[\"RSSI\"],math.sqrt(dx**2+dy**2),(math.atan2(dy,dx)-angles[int(advertiser.replace(\"esp32-\",\"\"))-1]+2*np.pi)%(2*np.pi)]\n",
    "\n",
    "client=mqtt.Client(\"reader\")\n",
    "client.on_connect = on_connect\n",
    "client.on_message = on_message\n",
    "client.connect('mqtt.vonk', 1883)\n",
    "client.username_pw_set(username=username,password=password)\n",
    "timer = RepeatTimer(60, switch_devices, args=(client,devices))\n",
    "try:\n",
    "    client.loop_start()\n",
    "    timer.start()\n",
    "except KeyboardInterrupt:\n",
    "    client.loop_stop()\n",
    "    timer.cancel()"
   ]
  },
  {
   "cell_type": "code",
   "execution_count": 398,
   "metadata": {},
   "outputs": [],
   "source": [
    "d=df.copy()\n",
    "d['TIMESTAMP']=pd.to_datetime(d['TIMESTAMP'],errors='coerce')\n",
    "d['SCANNER']=d['SCANNER'].astype(str)\n",
    "d['ADVERTISER']=d['ADVERTISER'].astype(str)\n",
    "d['TX POWER']=pd.to_numeric(d['TX POWER'],errors='coerce').astype('int8')\n",
    "d['RSSI']=pd.to_numeric(d['RSSI'],errors='coerce').astype('int8')\n",
    "d['DISTANCE']=pd.to_numeric(d['DISTANCE'],errors='coerce')\n",
    "d['ANGLE']=pd.to_numeric(d['ANGLE'],errors='coerce')\n",
    "angle_shift=(1-np.cos(2*d['ANGLE']))/d['ANGLE']*3-0.855\n",
    "d['HUMAN PREDICTION']=10**((11.5511+d['TX POWER']-d['RSSI']-angle_shift)/10/2)\n",
    "d['HUMAN PREDICTION']=pd.to_numeric(d['HUMAN PREDICTION'],errors='coerce')\n",
    "d['HUMAN SLE']=np.log((d['DISTANCE']+1)/(d['HUMAN PREDICTION']+1))**2\n",
    "d['HUMAN SLE']=pd.to_numeric(d['HUMAN SLE'],errors='coerce')"
   ]
  },
  {
   "cell_type": "code",
   "execution_count": 399,
   "metadata": {},
   "outputs": [
    {
     "name": "stdout",
     "output_type": "stream",
     "text": [
      "Received 5.3641 messages per second.\n",
      "Human distance and angle mean squared log error is 0.29687.\n"
     ]
    },
    {
     "data": {
      "text/plain": [
       "<seaborn.axisgrid.JointGrid at 0x15fc2c8c988>"
      ]
     },
     "execution_count": 399,
     "metadata": {},
     "output_type": "execute_result"
    },
    {
     "data": {
      "image/png": "[encoded data removed]",
      "text/plain": [
       "<Figure size 432x432 with 3 Axes>"
      ]
     },
     "metadata": {
      "needs_background": "light"
     },
     "output_type": "display_data"
    }
   ],
   "source": [
    "print('Received {0:.5} messages per second.'.format(len(df)/(df.iloc[-1][\"TIMESTAMP\"]-df.iloc[0][\"TIMESTAMP\"]).total_seconds()))\n",
    "print(\"Human distance and angle mean squared log error is {0:.5}.\".format(np.sum(d['HUMAN SLE'])/len(d)))\n",
    "plot_data=d.query('`HUMAN PREDICTION`>0 and `HUMAN PREDICTION`<4')\n",
    "sns.jointplot(x=\"DISTANCE\", y=\"HUMAN PREDICTION\", data=plot_data, kind=\"hex\")"
   ]
  },
  {
   "cell_type": "code",
   "execution_count": 400,
   "metadata": {},
   "outputs": [],
   "source": [
    "d['DISTANCE PREDICTION']=10**((11.5511+d['TX POWER']-d['RSSI'])/10/2)\n",
    "d['DISTANCE PREDICTION']=pd.to_numeric(d['DISTANCE PREDICTION'],errors='coerce')\n",
    "d['DISTANCE SLE']=np.log((d['DISTANCE']+1)/(d['DISTANCE PREDICTION']+1))**2\n",
    "d['DISTANCE SLE']=pd.to_numeric(d['DISTANCE SLE'],errors='coerce')"
   ]
  },
  {
   "cell_type": "code",
   "execution_count": 401,
   "metadata": {},
   "outputs": [
    {
     "name": "stdout",
     "output_type": "stream",
     "text": [
      "Distance-only mean squared log error is 0.34482.\n"
     ]
    },
    {
     "data": {
      "text/plain": [
       "<seaborn.axisgrid.JointGrid at 0x15fc77d30c8>"
      ]
     },
     "execution_count": 401,
     "metadata": {},
     "output_type": "execute_result"
    },
    {
     "data": {
      "image/png": "[encoded data removed]",
      "text/plain": [
       "<Figure size 432x432 with 3 Axes>"
      ]
     },
     "metadata": {
      "needs_background": "light"
     },
     "output_type": "display_data"
    }
   ],
   "source": [
    "print(\"Distance-only mean squared log error is {0:.5}.\".format(np.sum(d['DISTANCE SLE'])/len(d)))\n",
    "plot_data=d.query('`DISTANCE PREDICTION`>0 and `DISTANCE PREDICTION`<4')\n",
    "sns.jointplot(x=\"DISTANCE\", y=\"DISTANCE PREDICTION\", data=plot_data, kind=\"hex\")"
   ]
  },
  {
   "cell_type": "code",
   "execution_count": 402,
   "metadata": {},
   "outputs": [],
   "source": [
    "import tensorflow as tf\n",
    "from tensorflow.keras.models import Sequential\n",
    "from tensorflow.keras.layers import Dense\n",
    "from sklearn.model_selection import train_test_split\n",
    "from sklearn.preprocessing import StandardScaler"
   ]
  },
  {
   "cell_type": "code",
   "execution_count": 403,
   "metadata": {},
   "outputs": [],
   "source": [
    "power=10**((11.5511+d['TX POWER']-d['RSSI'])/20)\n",
    "cos_2angle=np.cos(2*d['ANGLE'])\n",
    "sin_2angle=np.sin(2*d['ANGLE'])\n",
    "cos_angle=np.cos(d['ANGLE'])\n",
    "sin_angle=np.sin(d['ANGLE'])\n",
    "X = pd.DataFrame([power,cos_2angle,sin_2angle,cos_angle,sin_angle]).T\n",
    "y = np.ravel(d['DISTANCE'])\n",
    "X_train, X_test, y_train, y_test = train_test_split(X, y, test_size=0.33, random_state=42)"
   ]
  },
  {
   "cell_type": "code",
   "execution_count": 404,
   "metadata": {},
   "outputs": [],
   "source": [
    "scaler = StandardScaler().fit(X_train)\n",
    "X_train = scaler.transform(X_train)\n",
    "X_test = scaler.transform(X_test)"
   ]
  },
  {
   "cell_type": "code",
   "execution_count": 405,
   "metadata": {},
   "outputs": [
    {
     "name": "stdout",
     "output_type": "stream",
     "text": [
      "Model: \"sequential_19\"\n",
      "_________________________________________________________________\n",
      "Layer (type)                 Output Shape              Param #   \n",
      "=================================================================\n",
      "dense_57 (Dense)             (None, 8)                 48        \n",
      "_________________________________________________________________\n",
      "dense_58 (Dense)             (None, 8)                 72        \n",
      "_________________________________________________________________\n",
      "dense_59 (Dense)             (None, 1)                 9         \n",
      "=================================================================\n",
      "Total params: 129\n",
      "Trainable params: 129\n",
      "Non-trainable params: 0\n",
      "_________________________________________________________________\n"
     ]
    }
   ],
   "source": [
    "model = Sequential()\n",
    "model.add(Dense(8, kernel_initializer='normal', activation='relu', input_shape=(5,)))\n",
    "model.add(Dense(8, kernel_initializer='normal', activation='relu'))\n",
    "model.add(Dense(1, kernel_initializer='normal'))\n",
    "model.compile(loss='mean_squared_logarithmic_error',\n",
    "              optimizer='sgd',\n",
    "              metrics=['mse'])\n",
    "model.summary()"
   ]
  },
  {
   "cell_type": "code",
   "execution_count": 406,
   "metadata": {},
   "outputs": [
    {
     "name": "stdout",
     "output_type": "stream",
     "text": [
      "Train on 466235 samples, validate on 229639 samples\n",
      "Epoch 1/36\n",
      "466235/466235 [==============================] - 494s 1ms/sample - loss: 0.0600 - mse: 0.3272 - val_loss: 0.0475 - val_mse: 0.2613\n",
      "Epoch 2/36\n",
      "466235/466235 [==============================] - 513s 1ms/sample - loss: 0.0376 - mse: 0.2126 - val_loss: 0.0341 - val_mse: 0.1920\n",
      "Epoch 3/36\n",
      "466235/466235 [==============================] - 528s 1ms/sample - loss: 0.0320 - mse: 0.1839 - val_loss: 0.0301 - val_mse: 0.1693\n",
      "Epoch 4/36\n",
      "466235/466235 [==============================] - 618s 1ms/sample - loss: 0.0280 - mse: 0.1592 - val_loss: 0.0263 - val_mse: 0.1511\n",
      "Epoch 5/36\n",
      "466235/466235 [==============================] - 604s 1ms/sample - loss: 0.0251 - mse: 0.1445 - val_loss: 0.0243 - val_mse: 0.1406\n",
      "Epoch 6/36\n",
      "466235/466235 [==============================] - 489s 1ms/sample - loss: 0.0239 - mse: 0.1393 - val_loss: 0.0237 - val_mse: 0.1376\n",
      "Epoch 7/36\n",
      "466235/466235 [==============================] - 437s 938us/sample - loss: 0.0233 - mse: 0.1347 - val_loss: 0.0230 - val_mse: 0.1334\n",
      "Epoch 8/36\n",
      "466235/466235 [==============================] - 411s 882us/sample - loss: 0.0227 - mse: 0.1317 - val_loss: 0.0226 - val_mse: 0.1299\n",
      "Epoch 9/36\n",
      "466235/466235 [==============================] - 403s 865us/sample - loss: 0.0222 - mse: 0.1289 - val_loss: 0.0219 - val_mse: 0.1275\n",
      "Epoch 10/36\n",
      "466235/466235 [==============================] - 436s 935us/sample - loss: 0.0217 - mse: 0.1263 - val_loss: 0.0217 - val_mse: 0.1251\n",
      "Epoch 11/36\n",
      "466235/466235 [==============================] - 415s 889us/sample - loss: 0.0213 - mse: 0.1247 - val_loss: 0.0215 - val_mse: 0.1246\n",
      "Epoch 12/36\n",
      "466235/466235 [==============================] - 428s 917us/sample - loss: 0.0209 - mse: 0.1228 - val_loss: 0.0206 - val_mse: 0.1223\n",
      "Epoch 13/36\n",
      "466235/466235 [==============================] - 432s 926us/sample - loss: 0.0204 - mse: 0.1202 - val_loss: 0.0201 - val_mse: 0.1193\n",
      "Epoch 14/36\n",
      "466235/466235 [==============================] - 430s 921us/sample - loss: 0.0199 - mse: 0.1173 - val_loss: 0.0197 - val_mse: 0.1173\n",
      "Epoch 15/36\n",
      "466235/466235 [==============================] - 458s 981us/sample - loss: 0.0193 - mse: 0.1139 - val_loss: 0.0189 - val_mse: 0.1107\n",
      "Epoch 16/36\n",
      "466235/466235 [==============================] - 33164s 71ms/sample - loss: 0.0184 - mse: 0.1083 - val_loss: 0.0179 - val_mse: 0.1046\n",
      "Epoch 17/36\n",
      "466235/466235 [==============================] - 41s 88us/sample - loss: 0.0174 - mse: 0.1016 - val_loss: 0.0170 - val_mse: 0.1002\n",
      "Epoch 18/36\n",
      "466235/466235 [==============================] - 36s 77us/sample - loss: 0.0163 - mse: 0.0956 - val_loss: 0.0161 - val_mse: 0.0922\n",
      "Epoch 19/36\n",
      "466235/466235 [==============================] - 41s 88us/sample - loss: 0.0155 - mse: 0.0911 - val_loss: 0.0152 - val_mse: 0.0883\n",
      "Epoch 20/36\n",
      "466235/466235 [==============================] - 45s 97us/sample - loss: 0.0149 - mse: 0.0879 - val_loss: 0.0147 - val_mse: 0.0877\n",
      "Epoch 21/36\n",
      "466235/466235 [==============================] - 149s 320us/sample - loss: 0.0142 - mse: 0.0841 - val_loss: 0.0137 - val_mse: 0.0833\n",
      "Epoch 22/36\n",
      "466235/466235 [==============================] - 46s 98us/sample - loss: 0.0135 - mse: 0.0805 - val_loss: 0.0133 - val_mse: 0.0797\n",
      "Epoch 23/36\n",
      "466235/466235 [==============================] - 270s 580us/sample - loss: 0.0132 - mse: 0.0784 - val_loss: 0.0129 - val_mse: 0.0771\n",
      "Epoch 24/36\n",
      "466235/466235 [==============================] - 372s 798us/sample - loss: 0.0129 - mse: 0.0764 - val_loss: 0.0127 - val_mse: 0.0748\n",
      "Epoch 25/36\n",
      "466235/466235 [==============================] - 231s 496us/sample - loss: 0.0126 - mse: 0.0746 - val_loss: 0.0125 - val_mse: 0.0743\n",
      "Epoch 26/36\n",
      "466235/466235 [==============================] - 46s 98us/sample - loss: 0.0123 - mse: 0.0724 - val_loss: 0.0133 - val_mse: 0.0805\n",
      "Epoch 27/36\n",
      "466235/466235 [==============================] - 46s 99us/sample - loss: 0.0119 - mse: 0.0694 - val_loss: 0.0118 - val_mse: 0.0695\n",
      "Epoch 28/36\n",
      "466235/466235 [==============================] - 46s 100us/sample - loss: 0.0116 - mse: 0.0676 - val_loss: 0.0115 - val_mse: 0.0658\n",
      "Epoch 29/36\n",
      "466235/466235 [==============================] - 206s 442us/sample - loss: 0.0115 - mse: 0.0666 - val_loss: 0.0113 - val_mse: 0.0661\n",
      "Epoch 30/36\n",
      "466235/466235 [==============================] - 367s 787us/sample - loss: 0.0113 - mse: 0.0655 - val_loss: 0.0112 - val_mse: 0.0656\n",
      "Epoch 31/36\n",
      "466235/466235 [==============================] - 364s 781us/sample - loss: 0.0112 - mse: 0.0647 - val_loss: 0.0111 - val_mse: 0.0644\n",
      "Epoch 32/36\n",
      "466235/466235 [==============================] - 424s 909us/sample - loss: 0.0111 - mse: 0.0642 - val_loss: 0.0108 - val_mse: 0.0631\n",
      "Epoch 33/36\n",
      "466235/466235 [==============================] - 418s 897us/sample - loss: 0.0110 - mse: 0.0636 - val_loss: 0.0109 - val_mse: 0.0634\n",
      "Epoch 34/36\n",
      "466235/466235 [==============================] - 418s 896us/sample - loss: 0.0109 - mse: 0.0630 - val_loss: 0.0119 - val_mse: 0.0707\n",
      "Epoch 35/36\n",
      "466235/466235 [==============================] - 445s 953us/sample - loss: 0.0109 - mse: 0.0625 - val_loss: 0.0108 - val_mse: 0.0615\n",
      "Epoch 36/36\n",
      "466235/466235 [==============================] - 431s 924us/sample - loss: 0.0108 - mse: 0.0621 - val_loss: 0.0108 - val_mse: 0.0610\n"
     ]
    }
   ],
   "source": [
    "history = model.fit(X_train, y_train, epochs=36, batch_size=32, verbose=1, validation_data=(X_test, y_test))"
   ]
  },
  {
   "cell_type": "code",
   "execution_count": 407,
   "metadata": {},
   "outputs": [
    {
     "name": "stdout",
     "output_type": "stream",
     "text": [
      "INFO:tensorflow:Assets written to: model\\assets\n"
     ]
    },
    {
     "name": "stderr",
     "output_type": "stream",
     "text": [
      "INFO:tensorflow:Assets written to: model\\assets\n"
     ]
    }
   ],
   "source": [
    "model.save('model')"
   ]
  },
  {
   "cell_type": "code",
   "execution_count": 408,
   "metadata": {},
   "outputs": [
    {
     "name": "stdout",
     "output_type": "stream",
     "text": [
      "695874/695874 [==============================] - 302s 434us/sample\n"
     ]
    }
   ],
   "source": [
    "X_predict=scaler.transform(X)\n",
    "d['PREDICTION']=model.predict(X_predict, verbose=1)"
   ]
  },
  {
   "cell_type": "code",
   "execution_count": 409,
   "metadata": {},
   "outputs": [],
   "source": [
    "d['SLE']=np.log((d['DISTANCE']+1)/(d['PREDICTION']+1))**2\n",
    "d.to_csv(f\"pact_{d.iloc[0]['TIMESTAMP']:%Y%m%dT%H%M%S}.csv\")"
   ]
  },
  {
   "cell_type": "code",
   "execution_count": 410,
   "metadata": {},
   "outputs": [
    {
     "data": {
      "text/plain": [
       "<matplotlib.legend.Legend at 0x15f814af508>"
      ]
     },
     "execution_count": 410,
     "metadata": {},
     "output_type": "execute_result"
    },
    {
     "data": {
      "image/png": "[encoded data removed]",
      "text/plain": [
       "<Figure size 432x288 with 1 Axes>"
      ]
     },
     "metadata": {
      "needs_background": "light"
     },
     "output_type": "display_data"
    }
   ],
   "source": [
    "plt.plot(history.history['loss'])\n",
    "plt.plot(history.history['val_loss'])\n",
    "plt.title('model loss (msle)')\n",
    "plt.ylabel('loss')\n",
    "plt.xlabel('epoch')\n",
    "plt.legend(['train', 'test'], loc='upper left')"
   ]
  },
  {
   "cell_type": "code",
   "execution_count": 440,
   "metadata": {},
   "outputs": [
    {
     "name": "stdout",
     "output_type": "stream",
     "text": [
      "ML model mean squared log error is 0.010761.\n",
      "False positive rate is 0.990%.\n",
      "False negative rate is 3.323%.\n",
      "True positive rate is 16.360%.\n",
      "True negative rate is 79.327%.\n"
     ]
    },
    {
     "data": {
      "text/plain": [
       "<seaborn.axisgrid.JointGrid at 0x15f844ac548>"
      ]
     },
     "execution_count": 440,
     "metadata": {},
     "output_type": "execute_result"
    },
    {
     "data": {
      "image/png": "[encoded data removed]",
      "text/plain": [
       "<Figure size 432x432 with 3 Axes>"
      ]
     },
     "metadata": {
      "needs_background": "light"
     },
     "output_type": "display_data"
    }
   ],
   "source": [
    "print(\"ML model mean squared log error is {0:.5}.\".format(np.sum(d['SLE'])/len(d)))\n",
    "print(\"False positive rate is {0:.3%}.\".format(len(d.query('DISTANCE>0.9144 and PREDICTION<=0.9144'))/len(d)))\n",
    "print(\"False negative rate is {0:.3%}.\".format(len(d.query('DISTANCE<=0.9144 and PREDICTION>0.9144'))/len(d)))\n",
    "print(\"True positive rate is {0:.3%}.\".format(len(d.query('DISTANCE<=0.9144 and PREDICTION<=0.9144'))/len(d)))\n",
    "print(\"True negative rate is {0:.3%}.\".format(len(d.query('DISTANCE>0.9144 and PREDICTION>0.9144'))/len(d)))\n",
    "plot_data=d.query('`PREDICTION`>0 and `PREDICTION`<4')\n",
    "sns.jointplot(x=\"DISTANCE\", y=\"PREDICTION\", data=plot_data, kind=\"hex\")"
   ]
  },
  {
   "cell_type": "code",
   "execution_count": 521,
   "metadata": {},
   "outputs": [
    {
     "name": "stdout",
     "output_type": "stream",
     "text": [
      "1000/1000 [==============================] - 0s 433us/sample\n"
     ]
    },
    {
     "data": {
      "application/vnd.plotly.v1+json": {
       "config": {
        "plotlyServerURL": "https://plot.ly"
       },
       "data": [
        {
         "hovertemplate": "r=%{r}<br>theta=%{theta}<extra></extra>",
         "legendgroup": "",
         "line": {
          "color": "#636efa",
          "dash": "solid"
         },
         "mode": "lines",
         "name": "",
         "r": [
          25.368701934814453,
          25.41575050354004,
          25.459522247314453,
          25.500043869018555,
          25.537353515625,
          25.571475982666016,
          25.602432250976562,
          25.6302490234375,
          25.654945373535156,
          25.67652702331543,
          25.695011138916016,
          25.710411071777344,
          25.72272491455078,
          25.73196792602539,
          25.738130569458008,
          25.741212844848633,
          25.7412166595459,
          25.738126754760742,
          25.7319393157959,
          25.722637176513672,
          25.710203170776367,
          25.694629669189453,
          25.675880432128906,
          25.6539306640625,
          25.628765106201172,
          25.600339889526367,
          25.568626403808594,
          25.53357696533203,
          25.495162963867188,
          25.453336715698242,
          25.408039093017578,
          25.326749801635742,
          25.210126876831055,
          25.088163375854492,
          24.960670471191406,
          24.827430725097656,
          24.688215255737305,
          24.54277992248535,
          24.39086151123047,
          24.232173919677734,
          24.066396713256836,
          23.893198013305664,
          23.71219825744629,
          23.52300262451172,
          23.32516098022461,
          23.118202209472656,
          22.90157699584961,
          22.674715042114258,
          22.43694305419922,
          22.18755531311035,
          21.925748825073242,
          21.650611877441406,
          21.38483238220215,
          21.190404891967773,
          20.98739242553711,
          20.775312423706055,
          20.553638458251953,
          20.321767807006836,
          20.079065322875977,
          19.824796676635742,
          19.55815315246582,
          19.27823829650879,
          18.98405647277832,
          18.674455642700195,
          18.348154067993164,
          18.003686904907227,
          17.63936996459961,
          17.253280639648438,
          16.843151092529297,
          16.406375885009766,
          15.939849853515625,
          15.439895629882812,
          14.902074813842773,
          14.320967674255371,
          13.689933776855469,
          13.000561714172363,
          12.244254112243652,
          11.41777229309082,
          11.191347122192383,
          10.987346649169922,
          10.770336151123047,
          10.539436340332031,
          10.293715476989746,
          10.032062530517578,
          9.753267288208008,
          9.455903053283691,
          9.138346672058105,
          10.160381317138672,
          11.444912910461426,
          12.553936958312988,
          13.52835750579834,
          14.396196365356445,
          15.177535057067871,
          15.887205123901367,
          16.536514282226562,
          17.134258270263672,
          17.68742561340332,
          18.20163345336914,
          18.681509017944336,
          19.130878448486328,
          19.552940368652344,
          19.950403213500977,
          20.325597763061523,
          20.68050193786621,
          21.016843795776367,
          21.33613395690918,
          21.668209075927734,
          22.319984436035156,
          22.92315673828125,
          23.48416519165039,
          23.916776657104492,
          23.892377853393555,
          23.849618911743164,
          23.80785369873047,
          23.767107009887695,
          23.72740364074707,
          23.688764572143555,
          23.651212692260742,
          23.61477279663086,
          23.5794620513916,
          23.545307159423828,
          23.512327194213867,
          23.480545043945312,
          23.44997787475586,
          23.420644760131836,
          23.39257049560547,
          23.365768432617188,
          23.340259552001953,
          23.31606101989746,
          23.29318618774414,
          23.27165412902832,
          23.251482009887695,
          23.17705726623535,
          23.09763526916504,
          23.019336700439453,
          22.94220542907715,
          22.866289138793945,
          22.79163360595703,
          22.718294143676758,
          22.64630889892578,
          22.575729370117188,
          22.50660514831543,
          22.438982009887695,
          22.372905731201172,
          22.308427810668945,
          22.24559211730957,
          22.1844425201416,
          22.125028610229492,
          22.067394256591797,
          22.011585235595703,
          21.9576416015625,
          21.905611038208008,
          21.85552978515625,
          21.807443618774414,
          21.761388778686523,
          21.717405319213867,
          21.675525665283203,
          21.63578987121582,
          21.598228454589844,
          21.562875747680664,
          21.529760360717773,
          21.477214813232422,
          21.424020767211914,
          21.373464584350586,
          21.325603485107422,
          21.299251556396484,
          21.30398941040039,
          21.324922561645508,
          21.34636116027832,
          21.36829376220703,
          21.390716552734375,
          21.413619995117188,
          21.436996459960938,
          21.46083641052246,
          21.485136032104492,
          21.5098876953125,
          21.535078048706055,
          21.56070327758789,
          21.586755752563477,
          21.61322593688965,
          21.640106201171875,
          21.6622314453125,
          21.661046981811523,
          21.663066864013672,
          21.667573928833008,
          21.673471450805664,
          21.680761337280273,
          21.689434051513672,
          21.699481964111328,
          21.7193603515625,
          21.775659561157227,
          21.800893783569336,
          21.73218536376953,
          21.663724899291992,
          21.615283966064453,
          21.57904052734375,
          21.542848587036133,
          21.50670623779297,
          21.470623016357422,
          21.434602737426758,
          21.398651123046875,
          21.362770080566406,
          21.326967239379883,
          21.291250228881836,
          21.2556209564209,
          21.22008514404297,
          21.19336700439453,
          21.193235397338867,
          21.19317054748535,
          21.193174362182617,
          21.193246841430664,
          21.19338607788086,
          21.193593978881836,
          21.193870544433594,
          21.1942138671875,
          21.194623947143555,
          21.19510269165039,
          21.195648193359375,
          21.19626235961914,
          21.196941375732422,
          21.19768714904785,
          21.19849967956543,
          21.199378967285156,
          21.20032501220703,
          21.201335906982422,
          21.202411651611328,
          21.203554153442383,
          21.20484733581543,
          21.207300186157227,
          21.209835052490234,
          21.212453842163086,
          21.21515464782715,
          21.217937469482422,
          21.220800399780273,
          21.223743438720703,
          21.226768493652344,
          21.22987174987793,
          21.23305320739746,
          21.23631477355957,
          21.23965072631836,
          21.243650436401367,
          21.24787139892578,
          21.252187728881836,
          21.256595611572266,
          21.26109504699707,
          21.265684127807617,
          21.270362854003906,
          21.275131225585938,
          21.279987335205078,
          21.284929275512695,
          21.29045295715332,
          21.296222686767578,
          21.304643630981445,
          21.313318252563477,
          21.41380500793457,
          21.701204299926758,
          21.979576110839844,
          22.249435424804688,
          22.511253356933594,
          22.765457153320312,
          23.140785217285156,
          23.503969192504883,
          23.851825714111328,
          24.18716049194336,
          24.509523391723633,
          24.819530487060547,
          25.11802101135254,
          25.405742645263672,
          25.683378219604492,
          25.951541900634766,
          26.210784912109375,
          26.461620330810547,
          26.704511642456055,
          26.93988037109375,
          27.168109893798828,
          27.389568328857422,
          27.604578018188477,
          27.690614700317383,
          27.47535514831543,
          27.251514434814453,
          27.018585205078125,
          26.776023864746094,
          26.523218154907227,
          26.259498596191406,
          25.981491088867188,
          25.686813354492188,
          25.378206253051758,
          25.054555892944336,
          24.714611053466797,
          24.356948852539062,
          23.97994041442871,
          23.581722259521484,
          23.160118103027344,
          22.712602615356445,
          22.236194610595703,
          21.727359771728516,
          21.181859970092773,
          20.59453582763672,
          19.959062576293945,
          19.26749038696289,
          18.50974464416504,
          17.67270851135254,
          16.738861083984375,
          15.684167861938477,
          14.47421646118164,
          13.511748313903809,
          13.797454833984375,
          14.07018756866455,
          14.330820083618164,
          14.580166816711426,
          14.818910598754883,
          15.047712326049805,
          15.267154693603516,
          15.477762222290039,
          15.680015563964844,
          15.874357223510742,
          16.061195373535156,
          16.24088478088379,
          16.41377830505371,
          16.58019256591797,
          16.74040985107422,
          16.89470672607422,
          17.043315887451172,
          17.186485290527344,
          17.32442855834961,
          17.45733642578125,
          17.58540153503418,
          17.708789825439453,
          17.82769012451172,
          17.942218780517578,
          18.05255889892578,
          18.158811569213867,
          18.261119842529297,
          18.359594345092773,
          18.45435333251953,
          19.006906509399414,
          21.025659561157227,
          22.6577205657959,
          24.026779174804688,
          24.909317016601562,
          25.047605514526367,
          25.179241180419922,
          25.30450439453125,
          25.423606872558594,
          25.536781311035156,
          25.64422607421875,
          25.74612808227539,
          25.8426570892334,
          25.933969497680664,
          26.02021026611328,
          26.101530075073242,
          26.17803192138672,
          26.24986457824707,
          26.31711196899414,
          26.379880905151367,
          26.438274383544922,
          26.492372512817383,
          26.54224395751953,
          26.587989807128906,
          26.629636764526367,
          26.667282104492188,
          26.700973510742188,
          26.73074722290039,
          26.756654739379883,
          26.77875518798828,
          26.79706573486328,
          26.811628341674805,
          26.822460174560547,
          26.82958984375,
          26.83305549621582,
          26.83284568786621,
          26.828990936279297,
          26.821483612060547,
          26.810346603393555,
          26.795555114746094,
          26.77713966369629,
          26.755069732666016,
          26.729328155517578,
          26.69991683959961,
          26.666805267333984,
          26.629980087280273,
          26.589418411254883,
          26.545063018798828,
          26.496910095214844,
          26.44489097595215,
          26.388973236083984,
          26.329111099243164,
          26.265247344970703,
          26.19731903076172,
          26.12525749206543,
          26.04900360107422,
          25.968463897705078,
          25.883575439453125,
          25.794219970703125,
          25.7003173828125,
          25.60175323486328,
          25.498428344726562,
          25.39020347595215,
          25.276947021484375,
          25.158506393432617,
          25.03475570678711,
          24.905506134033203,
          24.770578384399414,
          24.629779815673828,
          24.48290252685547,
          24.329715728759766,
          24.169979095458984,
          24.003416061401367,
          23.82974624633789,
          23.648658752441406,
          23.459789276123047,
          23.262773513793945,
          23.057199478149414,
          22.842632293701172,
          22.618560791015625,
          22.384458541870117,
          22.139705657958984,
          21.883642196655273,
          21.61554527282715,
          21.33460235595703,
          21.03984832763672,
          20.73027229309082,
          20.40472984313965,
          20.061853408813477,
          19.700162887573242,
          19.317907333374023,
          18.913097381591797,
          18.483407974243164,
          18.026119232177734,
          17.5379695892334,
          17.419992446899414,
          18.21120262145996,
          18.92189598083496,
          19.565343856811523,
          20.151803970336914,
          20.68926429748535,
          21.18413543701172,
          21.641605377197266,
          22.065956115722656,
          22.460723876953125,
          22.828935623168945,
          23.173086166381836,
          23.49537467956543,
          23.79765510559082,
          24.08158302307129,
          24.348543167114258,
          24.599796295166016,
          24.836442947387695,
          25.059457778930664,
          25.269699096679688,
          25.467945098876953,
          25.654895782470703,
          25.8311710357666,
          25.99732780456543,
          26.15387535095215,
          26.301280975341797,
          26.439958572387695,
          26.57028579711914,
          26.69261360168457,
          26.807252883911133,
          26.91449737548828,
          27.014602661132812,
          27.10781478881836,
          27.194360733032227,
          27.274433135986328,
          27.348209381103516,
          27.41587257385254,
          27.477558135986328,
          27.53342628479004,
          27.58358383178711,
          27.628158569335938,
          27.667247772216797,
          27.700950622558594,
          27.72934341430664,
          27.756223678588867,
          27.804662704467773,
          27.847230911254883,
          27.884044647216797,
          27.915197372436523,
          27.940776824951172,
          27.960844039916992,
          27.975479125976562,
          27.984729766845703,
          27.988637924194336,
          27.987245559692383,
          27.980575561523438,
          27.968647003173828,
          27.951473236083984,
          27.929058074951172,
          27.901386260986328,
          27.86845588684082,
          27.830230712890625,
          27.78668785095215,
          27.737781524658203,
          27.683460235595703,
          27.623668670654297,
          27.55833625793457,
          27.487377166748047,
          27.41071319580078,
          27.328231811523438,
          27.239830017089844,
          27.145370483398438,
          27.044727325439453,
          26.9377384185791,
          26.824241638183594,
          26.704042434692383,
          26.576942443847656,
          26.44272232055664,
          26.301132202148438,
          26.151901245117188,
          25.9947452545166,
          25.829334259033203,
          25.655317306518555,
          25.47229766845703,
          25.279869079589844,
          25.077533721923828,
          24.86477279663086,
          24.641008377075195,
          24.442604064941406,
          24.715648651123047,
          24.973716735839844,
          25.217859268188477,
          25.449026107788086,
          25.668060302734375,
          25.8757381439209,
          26.07271957397461,
          26.25961685180664,
          26.437002182006836,
          26.605382919311523,
          26.765193939208984,
          26.91688346862793,
          27.060813903808594,
          27.197351455688477,
          27.326805114746094,
          27.44948959350586,
          27.565658569335938,
          27.67557144165039,
          27.779464721679688,
          27.877548217773438,
          27.970029830932617,
          28.057090759277344,
          28.13889503479004,
          28.21561050415039,
          28.287382125854492,
          28.354347229003906,
          28.4166316986084,
          28.474365234375,
          28.527645111083984,
          28.57657814025879,
          28.621265411376953,
          28.661788940429688,
          28.698230743408203,
          28.730674743652344,
          28.75918197631836,
          28.783824920654297,
          28.804664611816406,
          28.821744918823242,
          28.835128784179688,
          28.844860076904297,
          28.850980758666992,
          28.853527069091797,
          28.852529525756836,
          28.848031997680664,
          28.840045928955078,
          28.82860565185547,
          28.813732147216797,
          28.795429229736328,
          28.773723602294922,
          28.74862289428711,
          28.720130920410156,
          28.688251495361328,
          28.652990341186523,
          28.614343643188477,
          28.57229995727539,
          28.526857376098633,
          28.47800064086914,
          28.425716400146484,
          28.369991302490234,
          28.310791015625,
          28.248104095458984,
          28.181896209716797,
          28.112136840820312,
          28.038787841796875,
          27.96181869506836,
          27.881174087524414,
          27.79681396484375,
          27.70868492126465,
          27.61673927307129,
          27.520906448364258,
          27.365245819091797,
          26.924297332763672,
          26.671707153320312,
          26.693159103393555,
          26.716217041015625,
          26.74089813232422,
          26.767215728759766,
          26.795177459716797,
          26.82479476928711,
          26.85607147216797,
          26.889019012451172,
          26.92364501953125,
          26.959949493408203,
          26.997926712036133,
          27.03759002685547,
          27.078933715820312,
          27.12195587158203,
          27.16665267944336,
          27.213022232055664,
          27.261051177978516,
          27.31073760986328,
          27.362071990966797,
          27.415040969848633,
          27.469636917114258,
          27.317668914794922,
          26.874073028564453,
          26.41805648803711,
          25.94894790649414,
          25.466045379638672,
          24.968582153320312,
          24.455705642700195,
          23.92650032043457,
          23.379989624023438,
          22.81509017944336,
          22.230571746826172,
          21.477237701416016,
          20.661867141723633,
          19.990129470825195,
          20.588993072509766,
          21.15639877319336,
          21.69564437866211,
          22.20953941345215,
          22.700464248657227,
          23.17047691345215,
          23.621370315551758,
          24.054683685302734,
          24.4717960357666,
          24.87390899658203,
          25.26209831237793,
          25.637313842773438,
          25.980072021484375,
          25.82406997680664,
          25.671619415283203,
          25.52277946472168,
          25.37778663635254,
          25.236873626708984,
          25.100276947021484,
          24.968236923217773,
          24.840978622436523,
          24.718748092651367,
          24.601776123046875,
          24.490283966064453,
          24.384490966796875,
          24.284622192382812,
          24.190876007080078,
          24.10346221923828,
          24.022546768188477,
          23.94831657409668,
          23.88092803955078,
          23.82051658630371,
          23.767236709594727,
          23.721179962158203,
          23.682443618774414,
          23.65109634399414,
          23.6272029876709,
          23.610797882080078,
          23.601884841918945,
          23.60047149658203,
          23.60651969909668,
          23.619993209838867,
          23.640804290771484,
          23.66889762878418,
          23.70415687561035,
          23.74644660949707,
          23.795644760131836,
          23.85159683227539,
          23.914127349853516,
          23.983060836791992,
          24.058197021484375,
          24.139324188232422,
          24.22626495361328,
          24.318763732910156,
          24.416616439819336,
          24.519594192504883,
          24.627452850341797,
          24.73995018005371,
          24.85686492919922,
          24.97795867919922,
          25.10298728942871,
          25.23172378540039,
          25.363941192626953,
          25.499404907226562,
          25.63789176940918,
          25.779190063476562,
          25.92308807373047,
          26.069381713867188,
          26.21786880493164,
          26.368364334106445,
          26.520652770996094,
          26.67459487915039,
          26.829980850219727,
          26.986679077148438,
          27.144506454467773,
          27.303333282470703,
          27.462989807128906,
          27.623361587524414,
          27.784299850463867,
          27.945709228515625,
          28.107437133789062,
          28.269397735595703,
          28.431472778320312,
          28.593570709228516,
          28.755596160888672,
          28.917469024658203,
          29.07908821105957,
          29.240394592285156,
          29.401243209838867,
          29.561565399169922,
          29.721378326416016,
          29.880626678466797,
          29.951337814331055,
          30,
          29.707439422607422,
          29.404951095581055,
          29.09246826171875,
          28.769287109375,
          28.434675216674805,
          28.08777618408203,
          27.72764778137207,
          27.353229522705078,
          26.963336944580078,
          26.556604385375977,
          26.131507873535156,
          25.686220169067383,
          25.2187557220459,
          24.726709365844727,
          24.268098831176758,
          24.242725372314453,
          24.220312118530273,
          24.20083999633789,
          24.184276580810547,
          24.170616149902344,
          24.15981674194336,
          24.151840209960938,
          24.146663665771484,
          24.144235610961914,
          24.14452362060547,
          24.147472381591797,
          24.153053283691406,
          24.16118049621582,
          24.171842575073242,
          24.18494415283203,
          24.20044708251953,
          24.21828842163086,
          24.238414764404297,
          24.2607479095459,
          24.28522491455078,
          24.311771392822266,
          24.340335845947266,
          24.370845794677734,
          24.40321159362793,
          24.437389373779297,
          24.473281860351562,
          24.510847091674805,
          24.549989700317383,
          24.59064483642578,
          24.63275146484375,
          24.67622184753418,
          24.72097396850586,
          24.7669677734375,
          24.814130783081055,
          24.862346649169922,
          24.911603927612305,
          24.961801528930664,
          24.880863189697266,
          24.755935668945312,
          24.62482261657715,
          24.487279891967773,
          24.343048095703125,
          23.793153762817383,
          23.03299331665039,
          22.189760208129883,
          21.244644165039062,
          20.1715145111084,
          18.932680130004883,
          17.49747085571289,
          16.01156234741211,
          14.872159957885742,
          15.352200508117676,
          15.804832458496094,
          16.232707977294922,
          16.63815689086914,
          17.02313232421875,
          17.3893985748291,
          17.738407135009766,
          18.071500778198242,
          18.389820098876953,
          18.694425582885742,
          18.986196517944336,
          19.265995025634766,
          19.534523010253906,
          19.792451858520508,
          20.04039192199707,
          20.278888702392578,
          20.5084171295166,
          20.729454040527344,
          20.942398071289062,
          21.14761734008789,
          21.345474243164062,
          21.53628921508789,
          21.72035026550293,
          21.897912979125977,
          22.06926155090332,
          22.23460578918457,
          22.394166946411133,
          22.548133850097656,
          22.69672203063965,
          22.84007453918457,
          22.978364944458008,
          23.111732482910156,
          23.24032974243164,
          23.364280700683594,
          23.483732223510742,
          23.598751068115234,
          23.70948028564453,
          23.81599998474121,
          23.918411254882812,
          24.016803741455078,
          24.11124038696289,
          24.201828002929688,
          24.288599014282227,
          24.37164878845215,
          24.451011657714844,
          24.526771545410156,
          24.59896469116211,
          24.66764259338379,
          24.73284339904785,
          24.79461097717285,
          24.85299301147461,
          24.907997131347656,
          24.95968246459961,
          25.008068084716797,
          25.05316162109375,
          25.095006942749023,
          25.13360023498535,
          25.168968200683594,
          25.201122283935547,
          25.230073928833008,
          25.255828857421875,
          25.278390884399414,
          25.297744750976562,
          25.313919067382812,
          25.32688331604004,
          25.336650848388672,
          25.343185424804688,
          25.346500396728516,
          25.3465633392334,
          25.343355178833008,
          25.33687400817871,
          25.327068328857422,
          25.31392478942871,
          25.29740333557129,
          25.06105613708496,
          24.60554313659668,
          24.120834350585938,
          23.603313446044922,
          23.048625946044922,
          22.451488494873047,
          21.80535888671875,
          21.705005645751953,
          22.056777954101562,
          22.39006805419922,
          22.706390380859375,
          23.00701141357422,
          23.2930908203125,
          23.565641403198242,
          23.8255615234375,
          24.07364845275879,
          24.310632705688477,
          24.53716468811035,
          24.753833770751953,
          24.961166381835938,
          25.15965461730957,
          25.3497314453125,
          25.531801223754883,
          25.70624542236328,
          25.873388290405273,
          26.03352928161621,
          26.18697738647461,
          26.333974838256836,
          26.474769592285156,
          26.609588623046875,
          26.738630294799805,
          26.86209487915039,
          26.980159759521484,
          27.092971801757812,
          27.200695037841797,
          27.303470611572266,
          27.401437759399414,
          27.49468994140625,
          27.58336067199707,
          27.667537689208984,
          27.747337341308594,
          27.822830200195312,
          27.894105911254883,
          27.96123695373535,
          28.024288177490234,
          28.083332061767578,
          28.13841438293457,
          28.189599990844727,
          28.236919403076172,
          28.280437469482422,
          28.32016944885254,
          28.356157302856445,
          28.388431549072266,
          28.417015075683594,
          28.441925048828125,
          28.463184356689453,
          28.480792999267578,
          28.494770050048828,
          28.50511360168457,
          28.511821746826172,
          28.5148983001709,
          28.51432991027832,
          28.510101318359375,
          28.50220489501953,
          28.49061393737793,
          28.475303649902344,
          28.456239700317383,
          28.433406829833984,
          28.406749725341797,
          28.378501892089844,
          28.364049911499023,
          28.34546661376953,
          28.322742462158203,
          28.29580307006836,
          28.26462745666504,
          28.229156494140625,
          28.1893253326416,
          28.145055770874023,
          28.096294403076172,
          28.04295539855957,
          27.984935760498047,
          27.922149658203125,
          27.85449981689453,
          27.781864166259766,
          27.70411491394043,
          27.621118545532227,
          27.53274154663086,
          27.438817977905273,
          27.339157104492188,
          27.233598709106445,
          27.121936798095703,
          27.00394058227539,
          26.879379272460938,
          26.748004913330078,
          26.609519958496094,
          26.463621139526367,
          26.309988021850586,
          26.148239135742188,
          25.977989196777344,
          25.798782348632812,
          25.610157012939453,
          25.411544799804688,
          25.202423095703125,
          24.982093811035156,
          24.74984359741211,
          24.636518478393555,
          24.61246681213379,
          24.585159301757812,
          24.554523468017578,
          24.52055549621582,
          24.48318862915039,
          24.44239044189453,
          24.39810562133789,
          24.35027313232422,
          24.2988338470459,
          24.243738174438477,
          24.184898376464844,
          24.122249603271484,
          24.05571746826172,
          23.985200881958008,
          23.91061782836914,
          23.898494720458984,
          24.01519012451172,
          24.12718963623047,
          24.234655380249023,
          24.33769989013672,
          24.436433792114258,
          24.530969619750977,
          24.62140655517578,
          24.707847595214844,
          24.790372848510742,
          24.869062423706055,
          24.94399070739746,
          25.015235900878906,
          25.082868576049805,
          25.146942138671875,
          25.207509994506836,
          25.264629364013672,
          25.318342208862305,
          25.368701934814453
         ],
         "showlegend": false,
         "subplot": "polar",
         "theta": [
          0,
          0.36,
          0.72,
          1.08,
          1.44,
          1.8000000000000003,
          2.16,
          2.52,
          2.88,
          3.2399999999999998,
          3.6000000000000005,
          3.9600000000000004,
          4.32,
          4.68,
          5.04,
          5.4,
          5.76,
          6.12,
          6.4799999999999995,
          6.840000000000001,
          7.200000000000001,
          7.5600000000000005,
          7.920000000000001,
          8.280000000000001,
          8.64,
          9,
          9.36,
          9.720000000000002,
          10.08,
          10.440000000000001,
          10.8,
          11.16,
          11.52,
          11.88,
          12.24,
          12.600000000000001,
          12.959999999999999,
          13.319999999999999,
          13.680000000000001,
          14.040000000000003,
          14.400000000000002,
          14.76,
          15.120000000000001,
          15.48,
          15.840000000000002,
          16.200000000000003,
          16.560000000000002,
          16.919999999999998,
          17.28,
          17.64,
          18,
          18.36,
          18.72,
          19.080000000000002,
          19.440000000000005,
          19.800000000000004,
          20.16,
          20.520000000000003,
          20.880000000000003,
          21.240000000000006,
          21.6,
          21.96,
          22.32,
          22.68,
          23.04,
          23.400000000000002,
          23.76,
          24.12,
          24.48,
          24.840000000000003,
          25.200000000000003,
          25.560000000000002,
          25.919999999999998,
          26.279999999999998,
          26.639999999999997,
          27.000000000000004,
          27.360000000000003,
          27.720000000000002,
          28.080000000000005,
          28.440000000000005,
          28.800000000000004,
          29.16,
          29.52,
          29.88,
          30.240000000000002,
          30.599999999999998,
          30.96,
          31.320000000000007,
          31.680000000000003,
          32.040000000000006,
          32.400000000000006,
          32.760000000000005,
          33.120000000000005,
          33.480000000000004,
          33.839999999999996,
          34.2,
          34.56,
          34.92,
          35.28,
          35.64000000000001,
          36,
          36.36000000000001,
          36.72,
          37.08,
          37.44,
          37.800000000000004,
          38.160000000000004,
          38.52,
          38.88000000000001,
          39.24,
          39.60000000000001,
          39.96,
          40.32,
          40.68,
          41.040000000000006,
          41.4,
          41.760000000000005,
          42.12,
          42.48000000000001,
          42.839999999999996,
          43.2,
          43.56,
          43.92,
          44.28,
          44.64,
          45,
          45.36,
          45.72,
          46.08,
          46.440000000000005,
          46.800000000000004,
          47.160000000000004,
          47.52,
          47.88,
          48.24,
          48.6,
          48.96,
          49.32000000000001,
          49.68000000000001,
          50.040000000000006,
          50.400000000000006,
          50.760000000000005,
          51.120000000000005,
          51.480000000000004,
          51.839999999999996,
          52.2,
          52.559999999999995,
          52.92000000000001,
          53.279999999999994,
          53.64000000000001,
          54.00000000000001,
          54.36000000000001,
          54.720000000000006,
          55.08,
          55.440000000000005,
          55.8,
          56.16000000000001,
          56.519999999999996,
          56.88000000000001,
          57.24,
          57.60000000000001,
          57.96000000000001,
          58.32,
          58.68,
          59.04,
          59.40000000000001,
          59.76,
          60.120000000000005,
          60.480000000000004,
          60.84000000000001,
          61.199999999999996,
          61.56,
          61.92,
          62.28,
          62.640000000000015,
          63,
          63.36000000000001,
          63.720000000000006,
          64.08000000000001,
          64.44,
          64.80000000000001,
          65.16000000000001,
          65.52000000000001,
          65.88,
          66.24000000000001,
          66.60000000000001,
          66.96000000000001,
          67.32,
          67.67999999999999,
          68.04,
          68.4,
          68.75999999999999,
          69.12,
          69.48,
          69.84,
          70.2,
          70.56,
          70.92,
          71.28000000000002,
          71.64000000000001,
          72,
          72.36,
          72.72000000000001,
          73.08000000000001,
          73.44,
          73.8,
          74.16,
          74.52000000000001,
          74.88,
          75.24000000000001,
          75.60000000000001,
          75.96000000000001,
          76.32000000000001,
          76.68,
          77.04,
          77.4,
          77.76000000000002,
          78.12,
          78.48,
          78.84,
          79.20000000000002,
          79.56,
          79.92,
          80.28,
          80.64,
          81,
          81.36,
          81.72000000000001,
          82.08000000000001,
          82.44,
          82.8,
          83.16,
          83.52000000000001,
          83.88,
          84.24,
          84.6,
          84.96000000000002,
          85.32000000000002,
          85.67999999999999,
          86.04,
          86.4,
          86.76000000000002,
          87.12,
          87.48,
          87.84,
          88.20000000000002,
          88.56,
          88.92,
          89.28,
          89.64,
          90,
          90.36,
          90.72,
          91.08,
          91.44,
          91.8,
          92.16,
          92.52000000000001,
          92.88000000000001,
          93.24000000000001,
          93.60000000000001,
          93.96000000000001,
          94.32000000000001,
          94.68,
          95.04,
          95.4,
          95.76,
          96.12,
          96.48,
          96.84,
          97.2,
          97.56,
          97.92,
          98.28,
          98.64000000000001,
          99.00000000000001,
          99.36000000000001,
          99.72000000000001,
          100.08000000000001,
          100.44000000000001,
          100.80000000000001,
          101.16000000000001,
          101.52000000000001,
          101.88000000000001,
          102.24000000000001,
          102.60000000000001,
          102.96000000000001,
          103.32000000000001,
          103.67999999999999,
          104.04,
          104.4,
          104.76,
          105.11999999999999,
          105.48000000000002,
          105.84000000000002,
          106.20000000000002,
          106.55999999999999,
          106.92,
          107.28000000000002,
          107.64000000000001,
          108.00000000000001,
          108.36,
          108.72000000000001,
          109.08000000000001,
          109.44000000000001,
          109.8,
          110.16,
          110.52000000000001,
          110.88000000000001,
          111.24,
          111.6,
          111.96000000000002,
          112.32000000000002,
          112.67999999999999,
          113.03999999999999,
          113.4,
          113.76000000000002,
          114.12,
          114.48,
          114.84,
          115.20000000000002,
          115.56000000000002,
          115.92000000000002,
          116.28000000000002,
          116.64,
          117,
          117.36,
          117.72,
          118.08,
          118.44000000000003,
          118.80000000000003,
          119.16000000000003,
          119.52,
          119.88000000000001,
          120.24000000000001,
          120.60000000000001,
          120.96000000000001,
          121.32000000000001,
          121.68000000000002,
          122.04000000000002,
          122.39999999999999,
          122.76,
          123.12,
          123.48,
          123.84,
          124.2,
          124.56,
          124.92000000000003,
          125.28000000000003,
          125.63999999999999,
          126,
          126.36000000000001,
          126.72000000000001,
          127.08000000000001,
          127.44000000000001,
          127.80000000000001,
          128.16000000000003,
          128.51999999999998,
          128.88,
          129.24,
          129.60000000000002,
          129.96,
          130.32000000000002,
          130.68,
          131.04000000000002,
          131.40000000000003,
          131.76,
          132.12,
          132.48000000000002,
          132.84,
          133.20000000000002,
          133.56,
          133.92000000000002,
          134.28,
          134.64,
          135,
          135.35999999999999,
          135.72,
          136.08,
          136.44000000000003,
          136.8,
          137.16000000000003,
          137.51999999999998,
          137.88,
          138.24,
          138.6,
          138.96,
          139.32000000000002,
          139.68,
          140.04000000000002,
          140.4,
          140.76,
          141.12,
          141.48,
          141.84,
          142.20000000000002,
          142.56000000000003,
          142.92000000000002,
          143.28000000000003,
          143.64,
          144,
          144.36,
          144.72,
          145.08,
          145.44000000000003,
          145.8,
          146.16000000000003,
          146.52,
          146.88,
          147.24,
          147.6,
          147.96,
          148.32,
          148.68000000000004,
          149.04000000000002,
          149.40000000000003,
          149.76,
          150.12,
          150.48000000000002,
          150.84,
          151.20000000000002,
          151.56,
          151.92000000000002,
          152.28000000000003,
          152.64000000000001,
          153,
          153.36,
          153.72,
          154.08,
          154.44,
          154.8,
          155.16000000000003,
          155.52000000000004,
          155.88,
          156.24,
          156.6,
          156.96,
          157.32000000000002,
          157.68,
          158.04000000000002,
          158.40000000000003,
          158.76,
          159.12,
          159.48000000000002,
          159.84,
          160.20000000000002,
          160.56,
          160.92000000000002,
          161.28,
          161.64000000000004,
          162,
          162.36,
          162.72,
          163.07999999999998,
          163.44000000000003,
          163.80000000000004,
          164.16000000000003,
          164.52000000000004,
          164.88,
          165.24,
          165.6,
          165.96,
          166.32,
          166.68000000000004,
          167.04000000000002,
          167.40000000000003,
          167.76,
          168.12,
          168.48,
          168.84,
          169.2,
          169.56,
          169.92000000000004,
          170.28000000000003,
          170.64000000000004,
          171,
          171.35999999999999,
          171.72,
          172.08,
          172.44,
          172.8,
          173.16000000000003,
          173.52000000000004,
          173.88,
          174.24,
          174.6,
          174.96,
          175.32,
          175.68,
          176.04,
          176.40000000000003,
          176.76000000000005,
          177.12,
          177.48,
          177.84,
          178.20000000000002,
          178.56,
          178.92000000000002,
          179.28,
          179.64000000000004,
          180,
          180.36,
          180.72,
          181.08,
          181.44,
          181.8,
          182.16,
          182.52,
          182.88,
          183.24,
          183.6,
          183.96,
          184.32,
          184.68,
          185.04000000000002,
          185.4,
          185.76000000000002,
          186.12,
          186.48000000000002,
          186.84,
          187.20000000000002,
          187.56,
          187.92000000000002,
          188.28,
          188.64000000000001,
          189,
          189.36,
          189.72,
          190.08,
          190.44,
          190.8,
          191.16000000000003,
          191.52,
          191.88000000000002,
          192.24,
          192.60000000000002,
          192.96,
          193.32000000000002,
          193.68,
          194.04000000000002,
          194.4,
          194.76000000000002,
          195.12,
          195.48000000000002,
          195.84,
          196.20000000000002,
          196.56,
          196.92000000000002,
          197.28000000000003,
          197.64000000000001,
          198.00000000000003,
          198.36,
          198.72000000000003,
          199.08,
          199.44000000000003,
          199.8,
          200.16000000000003,
          200.52,
          200.88000000000002,
          201.24,
          201.60000000000002,
          201.96,
          202.32000000000002,
          202.68,
          203.04000000000002,
          203.4,
          203.76000000000002,
          204.11999999999998,
          204.48000000000002,
          204.84000000000003,
          205.20000000000002,
          205.56000000000003,
          205.92000000000002,
          206.28000000000003,
          206.64000000000001,
          206.99999999999997,
          207.35999999999999,
          207.72000000000003,
          208.08,
          208.44000000000003,
          208.8,
          209.16000000000003,
          209.52,
          209.88000000000002,
          210.23999999999998,
          210.6,
          210.96000000000004,
          211.32000000000002,
          211.68000000000004,
          212.04000000000002,
          212.40000000000003,
          212.76000000000002,
          213.11999999999998,
          213.48,
          213.84,
          214.20000000000002,
          214.56000000000003,
          214.92000000000002,
          215.28000000000003,
          215.64000000000001,
          216.00000000000003,
          216.35999999999999,
          216.72,
          217.07999999999998,
          217.44000000000003,
          217.80000000000004,
          218.16000000000003,
          218.52000000000004,
          218.88000000000002,
          219.23999999999998,
          219.6,
          219.95999999999998,
          220.32,
          220.68000000000004,
          221.04000000000002,
          221.40000000000003,
          221.76000000000002,
          222.12,
          222.48,
          222.84,
          223.2,
          223.56,
          223.92000000000004,
          224.28000000000003,
          224.64000000000004,
          225.00000000000003,
          225.35999999999999,
          225.72,
          226.07999999999998,
          226.44,
          226.8,
          227.16000000000003,
          227.52000000000004,
          227.88000000000002,
          228.24,
          228.6,
          228.96,
          229.32000000000002,
          229.68,
          230.04,
          230.40000000000003,
          230.76,
          231.12000000000003,
          231.48,
          231.84000000000003,
          232.2,
          232.56000000000003,
          232.92,
          233.28,
          233.64000000000004,
          234,
          234.36000000000004,
          234.72,
          235.08000000000004,
          235.44,
          235.8,
          236.16,
          236.52,
          236.88000000000005,
          237.24,
          237.60000000000005,
          237.96,
          238.32000000000005,
          238.68,
          239.04,
          239.4,
          239.76000000000002,
          240.12000000000003,
          240.48000000000002,
          240.84000000000003,
          241.20000000000002,
          241.56000000000003,
          241.92000000000002,
          242.28,
          242.64000000000001,
          243,
          243.36000000000004,
          243.72,
          244.08000000000004,
          244.44,
          244.79999999999998,
          245.16,
          245.52,
          245.88000000000002,
          246.24,
          246.60000000000005,
          246.96,
          247.32000000000005,
          247.68,
          248.03999999999996,
          248.4,
          248.76000000000002,
          249.12,
          249.48000000000002,
          249.84000000000006,
          250.20000000000002,
          250.56000000000006,
          250.92000000000002,
          251.27999999999997,
          251.64000000000001,
          252,
          252.36,
          252.72000000000003,
          253.08000000000004,
          253.44000000000003,
          253.80000000000004,
          254.16000000000003,
          254.51999999999998,
          254.88000000000002,
          255.24,
          255.60000000000002,
          255.96,
          256.32000000000005,
          256.68,
          257.03999999999996,
          257.40000000000003,
          257.76,
          258.12,
          258.48,
          258.84000000000003,
          259.20000000000005,
          259.56000000000006,
          259.92,
          260.28,
          260.64000000000004,
          261,
          261.36,
          261.72,
          262.08000000000004,
          262.44,
          262.80000000000007,
          263.16,
          263.52,
          263.88,
          264.24,
          264.6,
          264.96000000000004,
          265.32000000000005,
          265.68,
          266.03999999999996,
          266.40000000000003,
          266.76,
          267.12,
          267.47999999999996,
          267.84000000000003,
          268.20000000000005,
          268.56,
          268.92,
          269.28,
          269.64000000000004,
          270,
          270.36,
          270.71999999999997,
          271.08000000000004,
          271.44,
          271.8,
          272.16,
          272.52,
          272.88000000000005,
          273.24,
          273.6,
          273.96,
          274.32000000000005,
          274.68,
          275.03999999999996,
          275.40000000000003,
          275.76,
          276.12,
          276.48,
          276.84000000000003,
          277.2,
          277.56,
          277.92,
          278.28,
          278.64000000000004,
          279,
          279.36,
          279.71999999999997,
          280.08000000000004,
          280.44,
          280.8,
          281.16,
          281.52,
          281.88000000000005,
          282.24,
          282.6,
          282.96,
          283.32000000000005,
          283.68,
          284.04,
          284.40000000000003,
          284.76,
          285.12000000000006,
          285.48,
          285.84000000000003,
          286.2,
          286.56000000000006,
          286.92,
          287.28,
          287.64000000000004,
          288,
          288.36,
          288.72,
          289.08000000000004,
          289.44,
          289.8,
          290.16,
          290.52,
          290.88000000000005,
          291.24,
          291.6,
          291.96,
          292.32000000000005,
          292.68,
          293.04,
          293.4,
          293.76,
          294.12000000000006,
          294.48,
          294.84000000000003,
          295.2,
          295.56000000000006,
          295.92,
          296.28000000000003,
          296.64,
          297,
          297.36000000000007,
          297.72,
          298.08000000000004,
          298.44,
          298.80000000000007,
          299.16,
          299.52,
          299.88,
          300.24,
          300.6,
          300.96000000000004,
          301.32000000000005,
          301.68,
          302.04,
          302.40000000000003,
          302.76,
          303.12,
          303.48,
          303.84000000000003,
          304.2,
          304.56000000000006,
          304.92,
          305.28000000000003,
          305.64,
          306,
          306.36,
          306.72,
          307.08000000000004,
          307.44,
          307.80000000000007,
          308.16,
          308.52000000000004,
          308.88,
          309.24,
          309.6,
          309.96000000000004,
          310.32000000000005,
          310.68,
          311.0400000000001,
          311.40000000000003,
          311.76,
          312.12,
          312.48,
          312.84000000000003,
          313.2,
          313.56000000000006,
          313.92,
          314.28,
          314.64000000000004,
          315,
          315.36,
          315.72,
          316.08000000000004,
          316.44,
          316.80000000000007,
          317.16,
          317.52,
          317.88,
          318.24,
          318.6,
          318.96000000000004,
          319.32,
          319.68,
          320.0400000000001,
          320.40000000000003,
          320.76,
          321.12,
          321.48,
          321.84000000000003,
          322.20000000000005,
          322.56,
          322.92,
          323.2800000000001,
          323.64000000000004,
          324,
          324.36,
          324.72,
          325.08000000000004,
          325.44,
          325.8,
          326.15999999999997,
          326.52,
          326.88000000000005,
          327.24,
          327.6000000000001,
          327.96,
          328.32000000000005,
          328.68,
          329.0400000000001,
          329.4,
          329.76,
          330.12,
          330.48,
          330.8400000000001,
          331.2,
          331.56000000000006,
          331.92,
          332.2800000000001,
          332.64,
          333,
          333.36000000000007,
          333.71999999999997,
          334.08000000000004,
          334.44,
          334.80000000000007,
          335.15999999999997,
          335.52,
          335.88,
          336.24,
          336.6,
          336.96,
          337.32000000000005,
          337.68,
          338.0400000000001,
          338.4,
          338.76,
          339.12,
          339.48,
          339.8400000000001,
          340.2,
          340.56000000000006,
          340.92,
          341.2800000000001,
          341.64,
          342,
          342.36,
          342.71999999999997,
          343.08,
          343.44,
          343.80000000000007,
          344.16,
          344.52,
          344.88,
          345.24,
          345.6,
          345.96,
          346.32000000000005,
          346.68,
          347.0400000000001,
          347.4,
          347.76,
          348.12,
          348.48,
          348.84,
          349.2,
          349.56,
          349.92,
          350.2800000000001,
          350.64,
          351,
          351.36,
          351.72,
          352.08,
          352.44,
          352.80000000000007,
          353.16,
          353.5200000000001,
          353.88,
          354.24,
          354.6,
          354.96,
          355.32,
          355.68,
          356.04,
          356.40000000000003,
          356.76,
          357.12,
          357.48,
          357.84000000000003,
          358.2,
          358.56,
          358.92,
          359.2800000000001,
          359.64,
          0
         ],
         "type": "scatterpolar"
        }
       ],
       "layout": {
        "legend": {
         "tracegroupgap": 0
        },
        "margin": {
         "t": 60
        },
        "polar": {
         "angularaxis": {
          "direction": "clockwise",
          "rotation": 90
         },
         "domain": {
          "x": [
           0,
           1
          ],
          "y": [
           0,
           1
          ]
         }
        },
        "template": {
         "data": {
          "bar": [
           {
            "error_x": {
             "color": "#2a3f5f"
            },
            "error_y": {
             "color": "#2a3f5f"
            },
            "marker": {
             "line": {
              "color": "#E5ECF6",
              "width": 0.5
             }
            },
            "type": "bar"
           }
          ],
          "barpolar": [
           {
            "marker": {
             "line": {
              "color": "#E5ECF6",
              "width": 0.5
             }
            },
            "type": "barpolar"
           }
          ],
          "carpet": [
           {
            "aaxis": {
             "endlinecolor": "#2a3f5f",
             "gridcolor": "white",
             "linecolor": "white",
             "minorgridcolor": "white",
             "startlinecolor": "#2a3f5f"
            },
            "baxis": {
             "endlinecolor": "#2a3f5f",
             "gridcolor": "white",
             "linecolor": "white",
             "minorgridcolor": "white",
             "startlinecolor": "#2a3f5f"
            },
            "type": "carpet"
           }
          ],
          "choropleth": [
           {
            "colorbar": {
             "outlinewidth": 0,
             "ticks": ""
            },
            "type": "choropleth"
           }
          ],
          "contour": [
           {
            "colorbar": {
             "outlinewidth": 0,
             "ticks": ""
            },
            "colorscale": [
             [
              0,
              "#0d0887"
             ],
             [
              0.1111111111111111,
              "#46039f"
             ],
             [
              0.2222222222222222,
              "#7201a8"
             ],
             [
              0.3333333333333333,
              "#9c179e"
             ],
             [
              0.4444444444444444,
              "#bd3786"
             ],
             [
              0.5555555555555556,
              "#d8576b"
             ],
             [
              0.6666666666666666,
              "#ed7953"
             ],
             [
              0.7777777777777778,
              "#fb9f3a"
             ],
             [
              0.8888888888888888,
              "#fdca26"
             ],
             [
              1,
              "#f0f921"
             ]
            ],
            "type": "contour"
           }
          ],
          "contourcarpet": [
           {
            "colorbar": {
             "outlinewidth": 0,
             "ticks": ""
            },
            "type": "contourcarpet"
           }
          ],
          "heatmap": [
           {
            "colorbar": {
             "outlinewidth": 0,
             "ticks": ""
            },
            "colorscale": [
             [
              0,
              "#0d0887"
             ],
             [
              0.1111111111111111,
              "#46039f"
             ],
             [
              0.2222222222222222,
              "#7201a8"
             ],
             [
              0.3333333333333333,
              "#9c179e"
             ],
             [
              0.4444444444444444,
              "#bd3786"
             ],
             [
              0.5555555555555556,
              "#d8576b"
             ],
             [
              0.6666666666666666,
              "#ed7953"
             ],
             [
              0.7777777777777778,
              "#fb9f3a"
             ],
             [
              0.8888888888888888,
              "#fdca26"
             ],
             [
              1,
              "#f0f921"
             ]
            ],
            "type": "heatmap"
           }
          ],
          "heatmapgl": [
           {
            "colorbar": {
             "outlinewidth": 0,
             "ticks": ""
            },
            "colorscale": [
             [
              0,
              "#0d0887"
             ],
             [
              0.1111111111111111,
              "#46039f"
             ],
             [
              0.2222222222222222,
              "#7201a8"
             ],
             [
              0.3333333333333333,
              "#9c179e"
             ],
             [
              0.4444444444444444,
              "#bd3786"
             ],
             [
              0.5555555555555556,
              "#d8576b"
             ],
             [
              0.6666666666666666,
              "#ed7953"
             ],
             [
              0.7777777777777778,
              "#fb9f3a"
             ],
             [
              0.8888888888888888,
              "#fdca26"
             ],
             [
              1,
              "#f0f921"
             ]
            ],
            "type": "heatmapgl"
           }
          ],
          "histogram": [
           {
            "marker": {
             "colorbar": {
              "outlinewidth": 0,
              "ticks": ""
             }
            },
            "type": "histogram"
           }
          ],
          "histogram2d": [
           {
            "colorbar": {
             "outlinewidth": 0,
             "ticks": ""
            },
            "colorscale": [
             [
              0,
              "#0d0887"
             ],
             [
              0.1111111111111111,
              "#46039f"
             ],
             [
              0.2222222222222222,
              "#7201a8"
             ],
             [
              0.3333333333333333,
              "#9c179e"
             ],
             [
              0.4444444444444444,
              "#bd3786"
             ],
             [
              0.5555555555555556,
              "#d8576b"
             ],
             [
              0.6666666666666666,
              "#ed7953"
             ],
             [
              0.7777777777777778,
              "#fb9f3a"
             ],
             [
              0.8888888888888888,
              "#fdca26"
             ],
             [
              1,
              "#f0f921"
             ]
            ],
            "type": "histogram2d"
           }
          ],
          "histogram2dcontour": [
           {
            "colorbar": {
             "outlinewidth": 0,
             "ticks": ""
            },
            "colorscale": [
             [
              0,
              "#0d0887"
             ],
             [
              0.1111111111111111,
              "#46039f"
             ],
             [
              0.2222222222222222,
              "#7201a8"
             ],
             [
              0.3333333333333333,
              "#9c179e"
             ],
             [
              0.4444444444444444,
              "#bd3786"
             ],
             [
              0.5555555555555556,
              "#d8576b"
             ],
             [
              0.6666666666666666,
              "#ed7953"
             ],
             [
              0.7777777777777778,
              "#fb9f3a"
             ],
             [
              0.8888888888888888,
              "#fdca26"
             ],
             [
              1,
              "#f0f921"
             ]
            ],
            "type": "histogram2dcontour"
           }
          ],
          "mesh3d": [
           {
            "colorbar": {
             "outlinewidth": 0,
             "ticks": ""
            },
            "type": "mesh3d"
           }
          ],
          "parcoords": [
           {
            "line": {
             "colorbar": {
              "outlinewidth": 0,
              "ticks": ""
             }
            },
            "type": "parcoords"
           }
          ],
          "pie": [
           {
            "automargin": true,
            "type": "pie"
           }
          ],
          "scatter": [
           {
            "marker": {
             "colorbar": {
              "outlinewidth": 0,
              "ticks": ""
             }
            },
            "type": "scatter"
           }
          ],
          "scatter3d": [
           {
            "line": {
             "colorbar": {
              "outlinewidth": 0,
              "ticks": ""
             }
            },
            "marker": {
             "colorbar": {
              "outlinewidth": 0,
              "ticks": ""
             }
            },
            "type": "scatter3d"
           }
          ],
          "scattercarpet": [
           {
            "marker": {
             "colorbar": {
              "outlinewidth": 0,
              "ticks": ""
             }
            },
            "type": "scattercarpet"
           }
          ],
          "scattergeo": [
           {
            "marker": {
             "colorbar": {
              "outlinewidth": 0,
              "ticks": ""
             }
            },
            "type": "scattergeo"
           }
          ],
          "scattergl": [
           {
            "marker": {
             "colorbar": {
              "outlinewidth": 0,
              "ticks": ""
             }
            },
            "type": "scattergl"
           }
          ],
          "scattermapbox": [
           {
            "marker": {
             "colorbar": {
              "outlinewidth": 0,
              "ticks": ""
             }
            },
            "type": "scattermapbox"
           }
          ],
          "scatterpolar": [
           {
            "marker": {
             "colorbar": {
              "outlinewidth": 0,
              "ticks": ""
             }
            },
            "type": "scatterpolar"
           }
          ],
          "scatterpolargl": [
           {
            "marker": {
             "colorbar": {
              "outlinewidth": 0,
              "ticks": ""
             }
            },
            "type": "scatterpolargl"
           }
          ],
          "scatterternary": [
           {
            "marker": {
             "colorbar": {
              "outlinewidth": 0,
              "ticks": ""
             }
            },
            "type": "scatterternary"
           }
          ],
          "surface": [
           {
            "colorbar": {
             "outlinewidth": 0,
             "ticks": ""
            },
            "colorscale": [
             [
              0,
              "#0d0887"
             ],
             [
              0.1111111111111111,
              "#46039f"
             ],
             [
              0.2222222222222222,
              "#7201a8"
             ],
             [
              0.3333333333333333,
              "#9c179e"
             ],
             [
              0.4444444444444444,
              "#bd3786"
             ],
             [
              0.5555555555555556,
              "#d8576b"
             ],
             [
              0.6666666666666666,
              "#ed7953"
             ],
             [
              0.7777777777777778,
              "#fb9f3a"
             ],
             [
              0.8888888888888888,
              "#fdca26"
             ],
             [
              1,
              "#f0f921"
             ]
            ],
            "type": "surface"
           }
          ],
          "table": [
           {
            "cells": {
             "fill": {
              "color": "#EBF0F8"
             },
             "line": {
              "color": "white"
             }
            },
            "header": {
             "fill": {
              "color": "#C8D4E3"
             },
             "line": {
              "color": "white"
             }
            },
            "type": "table"
           }
          ]
         },
         "layout": {
          "annotationdefaults": {
           "arrowcolor": "#2a3f5f",
           "arrowhead": 0,
           "arrowwidth": 1
          },
          "coloraxis": {
           "colorbar": {
            "outlinewidth": 0,
            "ticks": ""
           }
          },
          "colorscale": {
           "diverging": [
            [
             0,
             "#8e0152"
            ],
            [
             0.1,
             "#c51b7d"
            ],
            [
             0.2,
             "#de77ae"
            ],
            [
             0.3,
             "#f1b6da"
            ],
            [
             0.4,
             "#fde0ef"
            ],
            [
             0.5,
             "#f7f7f7"
            ],
            [
             0.6,
             "#e6f5d0"
            ],
            [
             0.7,
             "#b8e186"
            ],
            [
             0.8,
             "#7fbc41"
            ],
            [
             0.9,
             "#4d9221"
            ],
            [
             1,
             "#276419"
            ]
           ],
           "sequential": [
            [
             0,
             "#0d0887"
            ],
            [
             0.1111111111111111,
             "#46039f"
            ],
            [
             0.2222222222222222,
             "#7201a8"
            ],
            [
             0.3333333333333333,
             "#9c179e"
            ],
            [
             0.4444444444444444,
             "#bd3786"
            ],
            [
             0.5555555555555556,
             "#d8576b"
            ],
            [
             0.6666666666666666,
             "#ed7953"
            ],
            [
             0.7777777777777778,
             "#fb9f3a"
            ],
            [
             0.8888888888888888,
             "#fdca26"
            ],
            [
             1,
             "#f0f921"
            ]
           ],
           "sequentialminus": [
            [
             0,
             "#0d0887"
            ],
            [
             0.1111111111111111,
             "#46039f"
            ],
            [
             0.2222222222222222,
             "#7201a8"
            ],
            [
             0.3333333333333333,
             "#9c179e"
            ],
            [
             0.4444444444444444,
             "#bd3786"
            ],
            [
             0.5555555555555556,
             "#d8576b"
            ],
            [
             0.6666666666666666,
             "#ed7953"
            ],
            [
             0.7777777777777778,
             "#fb9f3a"
            ],
            [
             0.8888888888888888,
             "#fdca26"
            ],
            [
             1,
             "#f0f921"
            ]
           ]
          },
          "colorway": [
           "#636efa",
           "#EF553B",
           "#00cc96",
           "#ab63fa",
           "#FFA15A",
           "#19d3f3",
           "#FF6692",
           "#B6E880",
           "#FF97FF",
           "#FECB52"
          ],
          "font": {
           "color": "#2a3f5f"
          },
          "geo": {
           "bgcolor": "white",
           "lakecolor": "white",
           "landcolor": "#E5ECF6",
           "showlakes": true,
           "showland": true,
           "subunitcolor": "white"
          },
          "hoverlabel": {
           "align": "left"
          },
          "hovermode": "closest",
          "mapbox": {
           "style": "light"
          },
          "paper_bgcolor": "white",
          "plot_bgcolor": "#E5ECF6",
          "polar": {
           "angularaxis": {
            "gridcolor": "white",
            "linecolor": "white",
            "ticks": ""
           },
           "bgcolor": "#E5ECF6",
           "radialaxis": {
            "gridcolor": "white",
            "linecolor": "white",
            "ticks": ""
           }
          },
          "scene": {
           "xaxis": {
            "backgroundcolor": "#E5ECF6",
            "gridcolor": "white",
            "gridwidth": 2,
            "linecolor": "white",
            "showbackground": true,
            "ticks": "",
            "zerolinecolor": "white"
           },
           "yaxis": {
            "backgroundcolor": "#E5ECF6",
            "gridcolor": "white",
            "gridwidth": 2,
            "linecolor": "white",
            "showbackground": true,
            "ticks": "",
            "zerolinecolor": "white"
           },
           "zaxis": {
            "backgroundcolor": "#E5ECF6",
            "gridcolor": "white",
            "gridwidth": 2,
            "linecolor": "white",
            "showbackground": true,
            "ticks": "",
            "zerolinecolor": "white"
           }
          },
          "shapedefaults": {
           "line": {
            "color": "#2a3f5f"
           }
          },
          "ternary": {
           "aaxis": {
            "gridcolor": "white",
            "linecolor": "white",
            "ticks": ""
           },
           "baxis": {
            "gridcolor": "white",
            "linecolor": "white",
            "ticks": ""
           },
           "bgcolor": "#E5ECF6",
           "caxis": {
            "gridcolor": "white",
            "linecolor": "white",
            "ticks": ""
           }
          },
          "title": {
           "x": 0.05
          },
          "xaxis": {
           "automargin": true,
           "gridcolor": "white",
           "linecolor": "white",
           "ticks": "",
           "title": {
            "standoff": 15
           },
           "zerolinecolor": "white",
           "zerolinewidth": 2
          },
          "yaxis": {
           "automargin": true,
           "gridcolor": "white",
           "linecolor": "white",
           "ticks": "",
           "title": {
            "standoff": 15
           },
           "zerolinecolor": "white",
           "zerolinewidth": 2
          }
         }
        }
       }
      },
      "text/html": [
       "<div>\n",
       "        \n",
       "        \n",
       "            <div id=\"e2720d52-b815-4da3-a805-b54fb9684f5e\" class=\"plotly-graph-div\" style=\"height:525px; width:100%;\"></div>\n",
       "            <script type=\"text/javascript\">\n",
       "                require([\"plotly\"], function(Plotly) {\n",
       "                    window.PLOTLYENV=window.PLOTLYENV || {};\n",
       "                    \n",
       "                if (document.getElementById(\"e2720d52-b815-4da3-a805-b54fb9684f5e\")) {\n",
       "                    Plotly.newPlot(\n",
       "                        'e2720d52-b815-4da3-a805-b54fb9684f5e',\n",
       "                        [{\"hovertemplate\": \"r=%{r}<br>theta=%{theta}<extra></extra>\", \"legendgroup\": \"\", \"line\": {\"color\": \"#636efa\", \"dash\": \"solid\"}, \"mode\": \"lines\", \"name\": \"\", \"r\": [25.368701934814453, 25.41575050354004, 25.459522247314453, 25.500043869018555, 25.537353515625, 25.571475982666016, 25.602432250976562, 25.6302490234375, 25.654945373535156, 25.67652702331543, 25.695011138916016, 25.710411071777344, 25.72272491455078, 25.73196792602539, 25.738130569458008, 25.741212844848633, 25.7412166595459, 25.738126754760742, 25.7319393157959, 25.722637176513672, 25.710203170776367, 25.694629669189453, 25.675880432128906, 25.6539306640625, 25.628765106201172, 25.600339889526367, 25.568626403808594, 25.53357696533203, 25.495162963867188, 25.453336715698242, 25.408039093017578, 25.326749801635742, 25.210126876831055, 25.088163375854492, 24.960670471191406, 24.827430725097656, 24.688215255737305, 24.54277992248535, 24.39086151123047, 24.232173919677734, 24.066396713256836, 23.893198013305664, 23.71219825744629, 23.52300262451172, 23.32516098022461, 23.118202209472656, 22.90157699584961, 22.674715042114258, 22.43694305419922, 22.18755531311035, 21.925748825073242, 21.650611877441406, 21.38483238220215, 21.190404891967773, 20.98739242553711, 20.775312423706055, 20.553638458251953, 20.321767807006836, 20.079065322875977, 19.824796676635742, 19.55815315246582, 19.27823829650879, 18.98405647277832, 18.674455642700195, 18.348154067993164, 18.003686904907227, 17.63936996459961, 17.253280639648438, 16.843151092529297, 16.406375885009766, 15.939849853515625, 15.439895629882812, 14.902074813842773, 14.320967674255371, 13.689933776855469, 13.000561714172363, 12.244254112243652, 11.41777229309082, 11.191347122192383, 10.987346649169922, 10.770336151123047, 10.539436340332031, 10.293715476989746, 10.032062530517578, 9.753267288208008, 9.455903053283691, 9.138346672058105, 10.160381317138672, 11.444912910461426, 12.553936958312988, 13.52835750579834, 14.396196365356445, 15.177535057067871, 15.887205123901367, 16.536514282226562, 17.134258270263672, 17.68742561340332, 18.20163345336914, 18.681509017944336, 19.130878448486328, 19.552940368652344, 19.950403213500977, 20.325597763061523, 20.68050193786621, 21.016843795776367, 21.33613395690918, 21.668209075927734, 22.319984436035156, 22.92315673828125, 23.48416519165039, 23.916776657104492, 23.892377853393555, 23.849618911743164, 23.80785369873047, 23.767107009887695, 23.72740364074707, 23.688764572143555, 23.651212692260742, 23.61477279663086, 23.5794620513916, 23.545307159423828, 23.512327194213867, 23.480545043945312, 23.44997787475586, 23.420644760131836, 23.39257049560547, 23.365768432617188, 23.340259552001953, 23.31606101989746, 23.29318618774414, 23.27165412902832, 23.251482009887695, 23.17705726623535, 23.09763526916504, 23.019336700439453, 22.94220542907715, 22.866289138793945, 22.79163360595703, 22.718294143676758, 22.64630889892578, 22.575729370117188, 22.50660514831543, 22.438982009887695, 22.372905731201172, 22.308427810668945, 22.24559211730957, 22.1844425201416, 22.125028610229492, 22.067394256591797, 22.011585235595703, 21.9576416015625, 21.905611038208008, 21.85552978515625, 21.807443618774414, 21.761388778686523, 21.717405319213867, 21.675525665283203, 21.63578987121582, 21.598228454589844, 21.562875747680664, 21.529760360717773, 21.477214813232422, 21.424020767211914, 21.373464584350586, 21.325603485107422, 21.299251556396484, 21.30398941040039, 21.324922561645508, 21.34636116027832, 21.36829376220703, 21.390716552734375, 21.413619995117188, 21.436996459960938, 21.46083641052246, 21.485136032104492, 21.5098876953125, 21.535078048706055, 21.56070327758789, 21.586755752563477, 21.61322593688965, 21.640106201171875, 21.6622314453125, 21.661046981811523, 21.663066864013672, 21.667573928833008, 21.673471450805664, 21.680761337280273, 21.689434051513672, 21.699481964111328, 21.7193603515625, 21.775659561157227, 21.800893783569336, 21.73218536376953, 21.663724899291992, 21.615283966064453, 21.57904052734375, 21.542848587036133, 21.50670623779297, 21.470623016357422, 21.434602737426758, 21.398651123046875, 21.362770080566406, 21.326967239379883, 21.291250228881836, 21.2556209564209, 21.22008514404297, 21.19336700439453, 21.193235397338867, 21.19317054748535, 21.193174362182617, 21.193246841430664, 21.19338607788086, 21.193593978881836, 21.193870544433594, 21.1942138671875, 21.194623947143555, 21.19510269165039, 21.195648193359375, 21.19626235961914, 21.196941375732422, 21.19768714904785, 21.19849967956543, 21.199378967285156, 21.20032501220703, 21.201335906982422, 21.202411651611328, 21.203554153442383, 21.20484733581543, 21.207300186157227, 21.209835052490234, 21.212453842163086, 21.21515464782715, 21.217937469482422, 21.220800399780273, 21.223743438720703, 21.226768493652344, 21.22987174987793, 21.23305320739746, 21.23631477355957, 21.23965072631836, 21.243650436401367, 21.24787139892578, 21.252187728881836, 21.256595611572266, 21.26109504699707, 21.265684127807617, 21.270362854003906, 21.275131225585938, 21.279987335205078, 21.284929275512695, 21.29045295715332, 21.296222686767578, 21.304643630981445, 21.313318252563477, 21.41380500793457, 21.701204299926758, 21.979576110839844, 22.249435424804688, 22.511253356933594, 22.765457153320312, 23.140785217285156, 23.503969192504883, 23.851825714111328, 24.18716049194336, 24.509523391723633, 24.819530487060547, 25.11802101135254, 25.405742645263672, 25.683378219604492, 25.951541900634766, 26.210784912109375, 26.461620330810547, 26.704511642456055, 26.93988037109375, 27.168109893798828, 27.389568328857422, 27.604578018188477, 27.690614700317383, 27.47535514831543, 27.251514434814453, 27.018585205078125, 26.776023864746094, 26.523218154907227, 26.259498596191406, 25.981491088867188, 25.686813354492188, 25.378206253051758, 25.054555892944336, 24.714611053466797, 24.356948852539062, 23.97994041442871, 23.581722259521484, 23.160118103027344, 22.712602615356445, 22.236194610595703, 21.727359771728516, 21.181859970092773, 20.59453582763672, 19.959062576293945, 19.26749038696289, 18.50974464416504, 17.67270851135254, 16.738861083984375, 15.684167861938477, 14.47421646118164, 13.511748313903809, 13.797454833984375, 14.07018756866455, 14.330820083618164, 14.580166816711426, 14.818910598754883, 15.047712326049805, 15.267154693603516, 15.477762222290039, 15.680015563964844, 15.874357223510742, 16.061195373535156, 16.24088478088379, 16.41377830505371, 16.58019256591797, 16.74040985107422, 16.89470672607422, 17.043315887451172, 17.186485290527344, 17.32442855834961, 17.45733642578125, 17.58540153503418, 17.708789825439453, 17.82769012451172, 17.942218780517578, 18.05255889892578, 18.158811569213867, 18.261119842529297, 18.359594345092773, 18.45435333251953, 19.006906509399414, 21.025659561157227, 22.6577205657959, 24.026779174804688, 24.909317016601562, 25.047605514526367, 25.179241180419922, 25.30450439453125, 25.423606872558594, 25.536781311035156, 25.64422607421875, 25.74612808227539, 25.8426570892334, 25.933969497680664, 26.02021026611328, 26.101530075073242, 26.17803192138672, 26.24986457824707, 26.31711196899414, 26.379880905151367, 26.438274383544922, 26.492372512817383, 26.54224395751953, 26.587989807128906, 26.629636764526367, 26.667282104492188, 26.700973510742188, 26.73074722290039, 26.756654739379883, 26.77875518798828, 26.79706573486328, 26.811628341674805, 26.822460174560547, 26.82958984375, 26.83305549621582, 26.83284568786621, 26.828990936279297, 26.821483612060547, 26.810346603393555, 26.795555114746094, 26.77713966369629, 26.755069732666016, 26.729328155517578, 26.69991683959961, 26.666805267333984, 26.629980087280273, 26.589418411254883, 26.545063018798828, 26.496910095214844, 26.44489097595215, 26.388973236083984, 26.329111099243164, 26.265247344970703, 26.19731903076172, 26.12525749206543, 26.04900360107422, 25.968463897705078, 25.883575439453125, 25.794219970703125, 25.7003173828125, 25.60175323486328, 25.498428344726562, 25.39020347595215, 25.276947021484375, 25.158506393432617, 25.03475570678711, 24.905506134033203, 24.770578384399414, 24.629779815673828, 24.48290252685547, 24.329715728759766, 24.169979095458984, 24.003416061401367, 23.82974624633789, 23.648658752441406, 23.459789276123047, 23.262773513793945, 23.057199478149414, 22.842632293701172, 22.618560791015625, 22.384458541870117, 22.139705657958984, 21.883642196655273, 21.61554527282715, 21.33460235595703, 21.03984832763672, 20.73027229309082, 20.40472984313965, 20.061853408813477, 19.700162887573242, 19.317907333374023, 18.913097381591797, 18.483407974243164, 18.026119232177734, 17.5379695892334, 17.419992446899414, 18.21120262145996, 18.92189598083496, 19.565343856811523, 20.151803970336914, 20.68926429748535, 21.18413543701172, 21.641605377197266, 22.065956115722656, 22.460723876953125, 22.828935623168945, 23.173086166381836, 23.49537467956543, 23.79765510559082, 24.08158302307129, 24.348543167114258, 24.599796295166016, 24.836442947387695, 25.059457778930664, 25.269699096679688, 25.467945098876953, 25.654895782470703, 25.8311710357666, 25.99732780456543, 26.15387535095215, 26.301280975341797, 26.439958572387695, 26.57028579711914, 26.69261360168457, 26.807252883911133, 26.91449737548828, 27.014602661132812, 27.10781478881836, 27.194360733032227, 27.274433135986328, 27.348209381103516, 27.41587257385254, 27.477558135986328, 27.53342628479004, 27.58358383178711, 27.628158569335938, 27.667247772216797, 27.700950622558594, 27.72934341430664, 27.756223678588867, 27.804662704467773, 27.847230911254883, 27.884044647216797, 27.915197372436523, 27.940776824951172, 27.960844039916992, 27.975479125976562, 27.984729766845703, 27.988637924194336, 27.987245559692383, 27.980575561523438, 27.968647003173828, 27.951473236083984, 27.929058074951172, 27.901386260986328, 27.86845588684082, 27.830230712890625, 27.78668785095215, 27.737781524658203, 27.683460235595703, 27.623668670654297, 27.55833625793457, 27.487377166748047, 27.41071319580078, 27.328231811523438, 27.239830017089844, 27.145370483398438, 27.044727325439453, 26.9377384185791, 26.824241638183594, 26.704042434692383, 26.576942443847656, 26.44272232055664, 26.301132202148438, 26.151901245117188, 25.9947452545166, 25.829334259033203, 25.655317306518555, 25.47229766845703, 25.279869079589844, 25.077533721923828, 24.86477279663086, 24.641008377075195, 24.442604064941406, 24.715648651123047, 24.973716735839844, 25.217859268188477, 25.449026107788086, 25.668060302734375, 25.8757381439209, 26.07271957397461, 26.25961685180664, 26.437002182006836, 26.605382919311523, 26.765193939208984, 26.91688346862793, 27.060813903808594, 27.197351455688477, 27.326805114746094, 27.44948959350586, 27.565658569335938, 27.67557144165039, 27.779464721679688, 27.877548217773438, 27.970029830932617, 28.057090759277344, 28.13889503479004, 28.21561050415039, 28.287382125854492, 28.354347229003906, 28.4166316986084, 28.474365234375, 28.527645111083984, 28.57657814025879, 28.621265411376953, 28.661788940429688, 28.698230743408203, 28.730674743652344, 28.75918197631836, 28.783824920654297, 28.804664611816406, 28.821744918823242, 28.835128784179688, 28.844860076904297, 28.850980758666992, 28.853527069091797, 28.852529525756836, 28.848031997680664, 28.840045928955078, 28.82860565185547, 28.813732147216797, 28.795429229736328, 28.773723602294922, 28.74862289428711, 28.720130920410156, 28.688251495361328, 28.652990341186523, 28.614343643188477, 28.57229995727539, 28.526857376098633, 28.47800064086914, 28.425716400146484, 28.369991302490234, 28.310791015625, 28.248104095458984, 28.181896209716797, 28.112136840820312, 28.038787841796875, 27.96181869506836, 27.881174087524414, 27.79681396484375, 27.70868492126465, 27.61673927307129, 27.520906448364258, 27.365245819091797, 26.924297332763672, 26.671707153320312, 26.693159103393555, 26.716217041015625, 26.74089813232422, 26.767215728759766, 26.795177459716797, 26.82479476928711, 26.85607147216797, 26.889019012451172, 26.92364501953125, 26.959949493408203, 26.997926712036133, 27.03759002685547, 27.078933715820312, 27.12195587158203, 27.16665267944336, 27.213022232055664, 27.261051177978516, 27.31073760986328, 27.362071990966797, 27.415040969848633, 27.469636917114258, 27.317668914794922, 26.874073028564453, 26.41805648803711, 25.94894790649414, 25.466045379638672, 24.968582153320312, 24.455705642700195, 23.92650032043457, 23.379989624023438, 22.81509017944336, 22.230571746826172, 21.477237701416016, 20.661867141723633, 19.990129470825195, 20.588993072509766, 21.15639877319336, 21.69564437866211, 22.20953941345215, 22.700464248657227, 23.17047691345215, 23.621370315551758, 24.054683685302734, 24.4717960357666, 24.87390899658203, 25.26209831237793, 25.637313842773438, 25.980072021484375, 25.82406997680664, 25.671619415283203, 25.52277946472168, 25.37778663635254, 25.236873626708984, 25.100276947021484, 24.968236923217773, 24.840978622436523, 24.718748092651367, 24.601776123046875, 24.490283966064453, 24.384490966796875, 24.284622192382812, 24.190876007080078, 24.10346221923828, 24.022546768188477, 23.94831657409668, 23.88092803955078, 23.82051658630371, 23.767236709594727, 23.721179962158203, 23.682443618774414, 23.65109634399414, 23.6272029876709, 23.610797882080078, 23.601884841918945, 23.60047149658203, 23.60651969909668, 23.619993209838867, 23.640804290771484, 23.66889762878418, 23.70415687561035, 23.74644660949707, 23.795644760131836, 23.85159683227539, 23.914127349853516, 23.983060836791992, 24.058197021484375, 24.139324188232422, 24.22626495361328, 24.318763732910156, 24.416616439819336, 24.519594192504883, 24.627452850341797, 24.73995018005371, 24.85686492919922, 24.97795867919922, 25.10298728942871, 25.23172378540039, 25.363941192626953, 25.499404907226562, 25.63789176940918, 25.779190063476562, 25.92308807373047, 26.069381713867188, 26.21786880493164, 26.368364334106445, 26.520652770996094, 26.67459487915039, 26.829980850219727, 26.986679077148438, 27.144506454467773, 27.303333282470703, 27.462989807128906, 27.623361587524414, 27.784299850463867, 27.945709228515625, 28.107437133789062, 28.269397735595703, 28.431472778320312, 28.593570709228516, 28.755596160888672, 28.917469024658203, 29.07908821105957, 29.240394592285156, 29.401243209838867, 29.561565399169922, 29.721378326416016, 29.880626678466797, 29.951337814331055, 30.0, 29.707439422607422, 29.404951095581055, 29.09246826171875, 28.769287109375, 28.434675216674805, 28.08777618408203, 27.72764778137207, 27.353229522705078, 26.963336944580078, 26.556604385375977, 26.131507873535156, 25.686220169067383, 25.2187557220459, 24.726709365844727, 24.268098831176758, 24.242725372314453, 24.220312118530273, 24.20083999633789, 24.184276580810547, 24.170616149902344, 24.15981674194336, 24.151840209960938, 24.146663665771484, 24.144235610961914, 24.14452362060547, 24.147472381591797, 24.153053283691406, 24.16118049621582, 24.171842575073242, 24.18494415283203, 24.20044708251953, 24.21828842163086, 24.238414764404297, 24.2607479095459, 24.28522491455078, 24.311771392822266, 24.340335845947266, 24.370845794677734, 24.40321159362793, 24.437389373779297, 24.473281860351562, 24.510847091674805, 24.549989700317383, 24.59064483642578, 24.63275146484375, 24.67622184753418, 24.72097396850586, 24.7669677734375, 24.814130783081055, 24.862346649169922, 24.911603927612305, 24.961801528930664, 24.880863189697266, 24.755935668945312, 24.62482261657715, 24.487279891967773, 24.343048095703125, 23.793153762817383, 23.03299331665039, 22.189760208129883, 21.244644165039062, 20.1715145111084, 18.932680130004883, 17.49747085571289, 16.01156234741211, 14.872159957885742, 15.352200508117676, 15.804832458496094, 16.232707977294922, 16.63815689086914, 17.02313232421875, 17.3893985748291, 17.738407135009766, 18.071500778198242, 18.389820098876953, 18.694425582885742, 18.986196517944336, 19.265995025634766, 19.534523010253906, 19.792451858520508, 20.04039192199707, 20.278888702392578, 20.5084171295166, 20.729454040527344, 20.942398071289062, 21.14761734008789, 21.345474243164062, 21.53628921508789, 21.72035026550293, 21.897912979125977, 22.06926155090332, 22.23460578918457, 22.394166946411133, 22.548133850097656, 22.69672203063965, 22.84007453918457, 22.978364944458008, 23.111732482910156, 23.24032974243164, 23.364280700683594, 23.483732223510742, 23.598751068115234, 23.70948028564453, 23.81599998474121, 23.918411254882812, 24.016803741455078, 24.11124038696289, 24.201828002929688, 24.288599014282227, 24.37164878845215, 24.451011657714844, 24.526771545410156, 24.59896469116211, 24.66764259338379, 24.73284339904785, 24.79461097717285, 24.85299301147461, 24.907997131347656, 24.95968246459961, 25.008068084716797, 25.05316162109375, 25.095006942749023, 25.13360023498535, 25.168968200683594, 25.201122283935547, 25.230073928833008, 25.255828857421875, 25.278390884399414, 25.297744750976562, 25.313919067382812, 25.32688331604004, 25.336650848388672, 25.343185424804688, 25.346500396728516, 25.3465633392334, 25.343355178833008, 25.33687400817871, 25.327068328857422, 25.31392478942871, 25.29740333557129, 25.06105613708496, 24.60554313659668, 24.120834350585938, 23.603313446044922, 23.048625946044922, 22.451488494873047, 21.80535888671875, 21.705005645751953, 22.056777954101562, 22.39006805419922, 22.706390380859375, 23.00701141357422, 23.2930908203125, 23.565641403198242, 23.8255615234375, 24.07364845275879, 24.310632705688477, 24.53716468811035, 24.753833770751953, 24.961166381835938, 25.15965461730957, 25.3497314453125, 25.531801223754883, 25.70624542236328, 25.873388290405273, 26.03352928161621, 26.18697738647461, 26.333974838256836, 26.474769592285156, 26.609588623046875, 26.738630294799805, 26.86209487915039, 26.980159759521484, 27.092971801757812, 27.200695037841797, 27.303470611572266, 27.401437759399414, 27.49468994140625, 27.58336067199707, 27.667537689208984, 27.747337341308594, 27.822830200195312, 27.894105911254883, 27.96123695373535, 28.024288177490234, 28.083332061767578, 28.13841438293457, 28.189599990844727, 28.236919403076172, 28.280437469482422, 28.32016944885254, 28.356157302856445, 28.388431549072266, 28.417015075683594, 28.441925048828125, 28.463184356689453, 28.480792999267578, 28.494770050048828, 28.50511360168457, 28.511821746826172, 28.5148983001709, 28.51432991027832, 28.510101318359375, 28.50220489501953, 28.49061393737793, 28.475303649902344, 28.456239700317383, 28.433406829833984, 28.406749725341797, 28.378501892089844, 28.364049911499023, 28.34546661376953, 28.322742462158203, 28.29580307006836, 28.26462745666504, 28.229156494140625, 28.1893253326416, 28.145055770874023, 28.096294403076172, 28.04295539855957, 27.984935760498047, 27.922149658203125, 27.85449981689453, 27.781864166259766, 27.70411491394043, 27.621118545532227, 27.53274154663086, 27.438817977905273, 27.339157104492188, 27.233598709106445, 27.121936798095703, 27.00394058227539, 26.879379272460938, 26.748004913330078, 26.609519958496094, 26.463621139526367, 26.309988021850586, 26.148239135742188, 25.977989196777344, 25.798782348632812, 25.610157012939453, 25.411544799804688, 25.202423095703125, 24.982093811035156, 24.74984359741211, 24.636518478393555, 24.61246681213379, 24.585159301757812, 24.554523468017578, 24.52055549621582, 24.48318862915039, 24.44239044189453, 24.39810562133789, 24.35027313232422, 24.2988338470459, 24.243738174438477, 24.184898376464844, 24.122249603271484, 24.05571746826172, 23.985200881958008, 23.91061782836914, 23.898494720458984, 24.01519012451172, 24.12718963623047, 24.234655380249023, 24.33769989013672, 24.436433792114258, 24.530969619750977, 24.62140655517578, 24.707847595214844, 24.790372848510742, 24.869062423706055, 24.94399070739746, 25.015235900878906, 25.082868576049805, 25.146942138671875, 25.207509994506836, 25.264629364013672, 25.318342208862305, 25.368701934814453], \"showlegend\": false, \"subplot\": \"polar\", \"theta\": [0.0, 0.36, 0.72, 1.08, 1.44, 1.8000000000000003, 2.16, 2.52, 2.88, 3.2399999999999998, 3.6000000000000005, 3.9600000000000004, 4.32, 4.68, 5.04, 5.4, 5.76, 6.12, 6.4799999999999995, 6.840000000000001, 7.200000000000001, 7.5600000000000005, 7.920000000000001, 8.280000000000001, 8.64, 9.0, 9.36, 9.720000000000002, 10.08, 10.440000000000001, 10.8, 11.16, 11.52, 11.88, 12.24, 12.600000000000001, 12.959999999999999, 13.319999999999999, 13.680000000000001, 14.040000000000003, 14.400000000000002, 14.76, 15.120000000000001, 15.48, 15.840000000000002, 16.200000000000003, 16.560000000000002, 16.919999999999998, 17.28, 17.64, 18.0, 18.36, 18.72, 19.080000000000002, 19.440000000000005, 19.800000000000004, 20.16, 20.520000000000003, 20.880000000000003, 21.240000000000006, 21.6, 21.96, 22.32, 22.68, 23.04, 23.400000000000002, 23.76, 24.12, 24.48, 24.840000000000003, 25.200000000000003, 25.560000000000002, 25.919999999999998, 26.279999999999998, 26.639999999999997, 27.000000000000004, 27.360000000000003, 27.720000000000002, 28.080000000000005, 28.440000000000005, 28.800000000000004, 29.16, 29.52, 29.88, 30.240000000000002, 30.599999999999998, 30.96, 31.320000000000007, 31.680000000000003, 32.040000000000006, 32.400000000000006, 32.760000000000005, 33.120000000000005, 33.480000000000004, 33.839999999999996, 34.2, 34.56, 34.92, 35.28, 35.64000000000001, 36.0, 36.36000000000001, 36.72, 37.08, 37.44, 37.800000000000004, 38.160000000000004, 38.52, 38.88000000000001, 39.24, 39.60000000000001, 39.96, 40.32, 40.68, 41.040000000000006, 41.4, 41.760000000000005, 42.12, 42.48000000000001, 42.839999999999996, 43.2, 43.56, 43.92, 44.28, 44.64, 45.0, 45.36, 45.72, 46.08, 46.440000000000005, 46.800000000000004, 47.160000000000004, 47.52, 47.88, 48.24, 48.6, 48.96, 49.32000000000001, 49.68000000000001, 50.040000000000006, 50.400000000000006, 50.760000000000005, 51.120000000000005, 51.480000000000004, 51.839999999999996, 52.2, 52.559999999999995, 52.92000000000001, 53.279999999999994, 53.64000000000001, 54.00000000000001, 54.36000000000001, 54.720000000000006, 55.08, 55.440000000000005, 55.8, 56.16000000000001, 56.519999999999996, 56.88000000000001, 57.24, 57.60000000000001, 57.96000000000001, 58.32, 58.68, 59.04, 59.40000000000001, 59.76, 60.120000000000005, 60.480000000000004, 60.84000000000001, 61.199999999999996, 61.56, 61.92, 62.28, 62.640000000000015, 63.0, 63.36000000000001, 63.720000000000006, 64.08000000000001, 64.44, 64.80000000000001, 65.16000000000001, 65.52000000000001, 65.88, 66.24000000000001, 66.60000000000001, 66.96000000000001, 67.32, 67.67999999999999, 68.04, 68.4, 68.75999999999999, 69.12, 69.48, 69.84, 70.2, 70.56, 70.92, 71.28000000000002, 71.64000000000001, 72.0, 72.36, 72.72000000000001, 73.08000000000001, 73.44, 73.8, 74.16, 74.52000000000001, 74.88, 75.24000000000001, 75.60000000000001, 75.96000000000001, 76.32000000000001, 76.68, 77.04, 77.4, 77.76000000000002, 78.12, 78.48, 78.84, 79.20000000000002, 79.56, 79.92, 80.28, 80.64, 81.0, 81.36, 81.72000000000001, 82.08000000000001, 82.44, 82.8, 83.16, 83.52000000000001, 83.88, 84.24, 84.6, 84.96000000000002, 85.32000000000002, 85.67999999999999, 86.04, 86.4, 86.76000000000002, 87.12, 87.48, 87.84, 88.20000000000002, 88.56, 88.92, 89.28, 89.64, 90.0, 90.36, 90.72, 91.08, 91.44, 91.8, 92.16, 92.52000000000001, 92.88000000000001, 93.24000000000001, 93.60000000000001, 93.96000000000001, 94.32000000000001, 94.68, 95.04, 95.4, 95.76, 96.12, 96.48, 96.84, 97.2, 97.56, 97.92, 98.28, 98.64000000000001, 99.00000000000001, 99.36000000000001, 99.72000000000001, 100.08000000000001, 100.44000000000001, 100.80000000000001, 101.16000000000001, 101.52000000000001, 101.88000000000001, 102.24000000000001, 102.60000000000001, 102.96000000000001, 103.32000000000001, 103.67999999999999, 104.04, 104.4, 104.76, 105.11999999999999, 105.48000000000002, 105.84000000000002, 106.20000000000002, 106.55999999999999, 106.92, 107.28000000000002, 107.64000000000001, 108.00000000000001, 108.36, 108.72000000000001, 109.08000000000001, 109.44000000000001, 109.8, 110.16, 110.52000000000001, 110.88000000000001, 111.24, 111.6, 111.96000000000002, 112.32000000000002, 112.67999999999999, 113.03999999999999, 113.4, 113.76000000000002, 114.12, 114.48, 114.84, 115.20000000000002, 115.56000000000002, 115.92000000000002, 116.28000000000002, 116.64, 117.0, 117.36, 117.72, 118.08, 118.44000000000003, 118.80000000000003, 119.16000000000003, 119.52, 119.88000000000001, 120.24000000000001, 120.60000000000001, 120.96000000000001, 121.32000000000001, 121.68000000000002, 122.04000000000002, 122.39999999999999, 122.76, 123.12, 123.48, 123.84, 124.2, 124.56, 124.92000000000003, 125.28000000000003, 125.63999999999999, 126.0, 126.36000000000001, 126.72000000000001, 127.08000000000001, 127.44000000000001, 127.80000000000001, 128.16000000000003, 128.51999999999998, 128.88, 129.24, 129.60000000000002, 129.96, 130.32000000000002, 130.68, 131.04000000000002, 131.40000000000003, 131.76, 132.12, 132.48000000000002, 132.84, 133.20000000000002, 133.56, 133.92000000000002, 134.28, 134.64, 135.0, 135.35999999999999, 135.72, 136.08, 136.44000000000003, 136.8, 137.16000000000003, 137.51999999999998, 137.88, 138.24, 138.6, 138.96, 139.32000000000002, 139.68, 140.04000000000002, 140.4, 140.76, 141.12, 141.48, 141.84, 142.20000000000002, 142.56000000000003, 142.92000000000002, 143.28000000000003, 143.64, 144.0, 144.36, 144.72, 145.08, 145.44000000000003, 145.8, 146.16000000000003, 146.52, 146.88, 147.24, 147.6, 147.96, 148.32, 148.68000000000004, 149.04000000000002, 149.40000000000003, 149.76, 150.12, 150.48000000000002, 150.84, 151.20000000000002, 151.56, 151.92000000000002, 152.28000000000003, 152.64000000000001, 153.0, 153.36, 153.72, 154.08, 154.44, 154.8, 155.16000000000003, 155.52000000000004, 155.88, 156.24, 156.6, 156.96, 157.32000000000002, 157.68, 158.04000000000002, 158.40000000000003, 158.76, 159.12, 159.48000000000002, 159.84, 160.20000000000002, 160.56, 160.92000000000002, 161.28, 161.64000000000004, 162.0, 162.36, 162.72, 163.07999999999998, 163.44000000000003, 163.80000000000004, 164.16000000000003, 164.52000000000004, 164.88, 165.24, 165.6, 165.96, 166.32, 166.68000000000004, 167.04000000000002, 167.40000000000003, 167.76, 168.12, 168.48, 168.84, 169.2, 169.56, 169.92000000000004, 170.28000000000003, 170.64000000000004, 171.0, 171.35999999999999, 171.72, 172.08, 172.44, 172.8, 173.16000000000003, 173.52000000000004, 173.88, 174.24, 174.6, 174.96, 175.32, 175.68, 176.04, 176.40000000000003, 176.76000000000005, 177.12, 177.48, 177.84, 178.20000000000002, 178.56, 178.92000000000002, 179.28, 179.64000000000004, 180.0, 180.36, 180.72, 181.08, 181.44, 181.8, 182.16, 182.52, 182.88, 183.24, 183.6, 183.96, 184.32, 184.68, 185.04000000000002, 185.4, 185.76000000000002, 186.12, 186.48000000000002, 186.84, 187.20000000000002, 187.56, 187.92000000000002, 188.28, 188.64000000000001, 189.0, 189.36, 189.72, 190.08, 190.44, 190.8, 191.16000000000003, 191.52, 191.88000000000002, 192.24, 192.60000000000002, 192.96, 193.32000000000002, 193.68, 194.04000000000002, 194.4, 194.76000000000002, 195.12, 195.48000000000002, 195.84, 196.20000000000002, 196.56, 196.92000000000002, 197.28000000000003, 197.64000000000001, 198.00000000000003, 198.36, 198.72000000000003, 199.08, 199.44000000000003, 199.8, 200.16000000000003, 200.52, 200.88000000000002, 201.24, 201.60000000000002, 201.96, 202.32000000000002, 202.68, 203.04000000000002, 203.4, 203.76000000000002, 204.11999999999998, 204.48000000000002, 204.84000000000003, 205.20000000000002, 205.56000000000003, 205.92000000000002, 206.28000000000003, 206.64000000000001, 206.99999999999997, 207.35999999999999, 207.72000000000003, 208.08, 208.44000000000003, 208.8, 209.16000000000003, 209.52, 209.88000000000002, 210.23999999999998, 210.6, 210.96000000000004, 211.32000000000002, 211.68000000000004, 212.04000000000002, 212.40000000000003, 212.76000000000002, 213.11999999999998, 213.48, 213.84, 214.20000000000002, 214.56000000000003, 214.92000000000002, 215.28000000000003, 215.64000000000001, 216.00000000000003, 216.35999999999999, 216.72, 217.07999999999998, 217.44000000000003, 217.80000000000004, 218.16000000000003, 218.52000000000004, 218.88000000000002, 219.23999999999998, 219.6, 219.95999999999998, 220.32, 220.68000000000004, 221.04000000000002, 221.40000000000003, 221.76000000000002, 222.12, 222.48, 222.84, 223.2, 223.56, 223.92000000000004, 224.28000000000003, 224.64000000000004, 225.00000000000003, 225.35999999999999, 225.72, 226.07999999999998, 226.44, 226.8, 227.16000000000003, 227.52000000000004, 227.88000000000002, 228.24, 228.6, 228.96, 229.32000000000002, 229.68, 230.04, 230.40000000000003, 230.76, 231.12000000000003, 231.48, 231.84000000000003, 232.2, 232.56000000000003, 232.92, 233.28, 233.64000000000004, 234.0, 234.36000000000004, 234.72, 235.08000000000004, 235.44, 235.8, 236.16, 236.52, 236.88000000000005, 237.24, 237.60000000000005, 237.96, 238.32000000000005, 238.68, 239.04, 239.4, 239.76000000000002, 240.12000000000003, 240.48000000000002, 240.84000000000003, 241.20000000000002, 241.56000000000003, 241.92000000000002, 242.28, 242.64000000000001, 243.0, 243.36000000000004, 243.72, 244.08000000000004, 244.44, 244.79999999999998, 245.16, 245.52, 245.88000000000002, 246.24, 246.60000000000005, 246.96, 247.32000000000005, 247.68, 248.03999999999996, 248.4, 248.76000000000002, 249.12, 249.48000000000002, 249.84000000000006, 250.20000000000002, 250.56000000000006, 250.92000000000002, 251.27999999999997, 251.64000000000001, 252.0, 252.36, 252.72000000000003, 253.08000000000004, 253.44000000000003, 253.80000000000004, 254.16000000000003, 254.51999999999998, 254.88000000000002, 255.24, 255.60000000000002, 255.96, 256.32000000000005, 256.68, 257.03999999999996, 257.40000000000003, 257.76, 258.12, 258.48, 258.84000000000003, 259.20000000000005, 259.56000000000006, 259.92, 260.28, 260.64000000000004, 261.0, 261.36, 261.72, 262.08000000000004, 262.44, 262.80000000000007, 263.16, 263.52, 263.88, 264.24, 264.6, 264.96000000000004, 265.32000000000005, 265.68, 266.03999999999996, 266.40000000000003, 266.76, 267.12, 267.47999999999996, 267.84000000000003, 268.20000000000005, 268.56, 268.92, 269.28, 269.64000000000004, 270.0, 270.36, 270.71999999999997, 271.08000000000004, 271.44, 271.8, 272.16, 272.52, 272.88000000000005, 273.24, 273.6, 273.96, 274.32000000000005, 274.68, 275.03999999999996, 275.40000000000003, 275.76, 276.12, 276.48, 276.84000000000003, 277.2, 277.56, 277.92, 278.28, 278.64000000000004, 279.0, 279.36, 279.71999999999997, 280.08000000000004, 280.44, 280.8, 281.16, 281.52, 281.88000000000005, 282.24, 282.6, 282.96, 283.32000000000005, 283.68, 284.04, 284.40000000000003, 284.76, 285.12000000000006, 285.48, 285.84000000000003, 286.2, 286.56000000000006, 286.92, 287.28, 287.64000000000004, 288.0, 288.36, 288.72, 289.08000000000004, 289.44, 289.8, 290.16, 290.52, 290.88000000000005, 291.24, 291.6, 291.96, 292.32000000000005, 292.68, 293.04, 293.4, 293.76, 294.12000000000006, 294.48, 294.84000000000003, 295.2, 295.56000000000006, 295.92, 296.28000000000003, 296.64, 297.0, 297.36000000000007, 297.72, 298.08000000000004, 298.44, 298.80000000000007, 299.16, 299.52, 299.88, 300.24, 300.6, 300.96000000000004, 301.32000000000005, 301.68, 302.04, 302.40000000000003, 302.76, 303.12, 303.48, 303.84000000000003, 304.2, 304.56000000000006, 304.92, 305.28000000000003, 305.64, 306.0, 306.36, 306.72, 307.08000000000004, 307.44, 307.80000000000007, 308.16, 308.52000000000004, 308.88, 309.24, 309.6, 309.96000000000004, 310.32000000000005, 310.68, 311.0400000000001, 311.40000000000003, 311.76, 312.12, 312.48, 312.84000000000003, 313.2, 313.56000000000006, 313.92, 314.28, 314.64000000000004, 315.0, 315.36, 315.72, 316.08000000000004, 316.44, 316.80000000000007, 317.16, 317.52, 317.88, 318.24, 318.6, 318.96000000000004, 319.32, 319.68, 320.0400000000001, 320.40000000000003, 320.76, 321.12, 321.48, 321.84000000000003, 322.20000000000005, 322.56, 322.92, 323.2800000000001, 323.64000000000004, 324.0, 324.36, 324.72, 325.08000000000004, 325.44, 325.8, 326.15999999999997, 326.52, 326.88000000000005, 327.24, 327.6000000000001, 327.96, 328.32000000000005, 328.68, 329.0400000000001, 329.4, 329.76, 330.12, 330.48, 330.8400000000001, 331.2, 331.56000000000006, 331.92, 332.2800000000001, 332.64, 333.0, 333.36000000000007, 333.71999999999997, 334.08000000000004, 334.44, 334.80000000000007, 335.15999999999997, 335.52, 335.88, 336.24, 336.6, 336.96, 337.32000000000005, 337.68, 338.0400000000001, 338.4, 338.76, 339.12, 339.48, 339.8400000000001, 340.2, 340.56000000000006, 340.92, 341.2800000000001, 341.64, 342.0, 342.36, 342.71999999999997, 343.08, 343.44, 343.80000000000007, 344.16, 344.52, 344.88, 345.24, 345.6, 345.96, 346.32000000000005, 346.68, 347.0400000000001, 347.4, 347.76, 348.12, 348.48, 348.84, 349.2, 349.56, 349.92, 350.2800000000001, 350.64, 351.0, 351.36, 351.72, 352.08, 352.44, 352.80000000000007, 353.16, 353.5200000000001, 353.88, 354.24, 354.6, 354.96, 355.32, 355.68, 356.04, 356.40000000000003, 356.76, 357.12, 357.48, 357.84000000000003, 358.2, 358.56, 358.92, 359.2800000000001, 359.64, 0.0], \"type\": \"scatterpolar\"}],\n",
       "                        {\"legend\": {\"tracegroupgap\": 0}, \"margin\": {\"t\": 60}, \"polar\": {\"angularaxis\": {\"direction\": \"clockwise\", \"rotation\": 90}, \"domain\": {\"x\": [0.0, 1.0], \"y\": [0.0, 1.0]}}, \"template\": {\"data\": {\"bar\": [{\"error_x\": {\"color\": \"#2a3f5f\"}, \"error_y\": {\"color\": \"#2a3f5f\"}, \"marker\": {\"line\": {\"color\": \"#E5ECF6\", \"width\": 0.5}}, \"type\": \"bar\"}], \"barpolar\": [{\"marker\": {\"line\": {\"color\": \"#E5ECF6\", \"width\": 0.5}}, \"type\": \"barpolar\"}], \"carpet\": [{\"aaxis\": {\"endlinecolor\": \"#2a3f5f\", \"gridcolor\": \"white\", \"linecolor\": \"white\", \"minorgridcolor\": \"white\", \"startlinecolor\": \"#2a3f5f\"}, \"baxis\": {\"endlinecolor\": \"#2a3f5f\", \"gridcolor\": \"white\", \"linecolor\": \"white\", \"minorgridcolor\": \"white\", \"startlinecolor\": \"#2a3f5f\"}, \"type\": \"carpet\"}], \"choropleth\": [{\"colorbar\": {\"outlinewidth\": 0, \"ticks\": \"\"}, \"type\": \"choropleth\"}], \"contour\": [{\"colorbar\": {\"outlinewidth\": 0, \"ticks\": \"\"}, \"colorscale\": [[0.0, \"#0d0887\"], [0.1111111111111111, \"#46039f\"], [0.2222222222222222, \"#7201a8\"], [0.3333333333333333, \"#9c179e\"], [0.4444444444444444, \"#bd3786\"], [0.5555555555555556, \"#d8576b\"], [0.6666666666666666, \"#ed7953\"], [0.7777777777777778, \"#fb9f3a\"], [0.8888888888888888, \"#fdca26\"], [1.0, \"#f0f921\"]], \"type\": \"contour\"}], \"contourcarpet\": [{\"colorbar\": {\"outlinewidth\": 0, \"ticks\": \"\"}, \"type\": \"contourcarpet\"}], \"heatmap\": [{\"colorbar\": {\"outlinewidth\": 0, \"ticks\": \"\"}, \"colorscale\": [[0.0, \"#0d0887\"], [0.1111111111111111, \"#46039f\"], [0.2222222222222222, \"#7201a8\"], [0.3333333333333333, \"#9c179e\"], [0.4444444444444444, \"#bd3786\"], [0.5555555555555556, \"#d8576b\"], [0.6666666666666666, \"#ed7953\"], [0.7777777777777778, \"#fb9f3a\"], [0.8888888888888888, \"#fdca26\"], [1.0, \"#f0f921\"]], \"type\": \"heatmap\"}], \"heatmapgl\": [{\"colorbar\": {\"outlinewidth\": 0, \"ticks\": \"\"}, \"colorscale\": [[0.0, \"#0d0887\"], [0.1111111111111111, \"#46039f\"], [0.2222222222222222, \"#7201a8\"], [0.3333333333333333, \"#9c179e\"], [0.4444444444444444, \"#bd3786\"], [0.5555555555555556, \"#d8576b\"], [0.6666666666666666, \"#ed7953\"], [0.7777777777777778, \"#fb9f3a\"], [0.8888888888888888, \"#fdca26\"], [1.0, \"#f0f921\"]], \"type\": \"heatmapgl\"}], \"histogram\": [{\"marker\": {\"colorbar\": {\"outlinewidth\": 0, \"ticks\": \"\"}}, \"type\": \"histogram\"}], \"histogram2d\": [{\"colorbar\": {\"outlinewidth\": 0, \"ticks\": \"\"}, \"colorscale\": [[0.0, \"#0d0887\"], [0.1111111111111111, \"#46039f\"], [0.2222222222222222, \"#7201a8\"], [0.3333333333333333, \"#9c179e\"], [0.4444444444444444, \"#bd3786\"], [0.5555555555555556, \"#d8576b\"], [0.6666666666666666, \"#ed7953\"], [0.7777777777777778, \"#fb9f3a\"], [0.8888888888888888, \"#fdca26\"], [1.0, \"#f0f921\"]], \"type\": \"histogram2d\"}], \"histogram2dcontour\": [{\"colorbar\": {\"outlinewidth\": 0, \"ticks\": \"\"}, \"colorscale\": [[0.0, \"#0d0887\"], [0.1111111111111111, \"#46039f\"], [0.2222222222222222, \"#7201a8\"], [0.3333333333333333, \"#9c179e\"], [0.4444444444444444, \"#bd3786\"], [0.5555555555555556, \"#d8576b\"], [0.6666666666666666, \"#ed7953\"], [0.7777777777777778, \"#fb9f3a\"], [0.8888888888888888, \"#fdca26\"], [1.0, \"#f0f921\"]], \"type\": \"histogram2dcontour\"}], \"mesh3d\": [{\"colorbar\": {\"outlinewidth\": 0, \"ticks\": \"\"}, \"type\": \"mesh3d\"}], \"parcoords\": [{\"line\": {\"colorbar\": {\"outlinewidth\": 0, \"ticks\": \"\"}}, \"type\": \"parcoords\"}], \"pie\": [{\"automargin\": true, \"type\": \"pie\"}], \"scatter\": [{\"marker\": {\"colorbar\": {\"outlinewidth\": 0, \"ticks\": \"\"}}, \"type\": \"scatter\"}], \"scatter3d\": [{\"line\": {\"colorbar\": {\"outlinewidth\": 0, \"ticks\": \"\"}}, \"marker\": {\"colorbar\": {\"outlinewidth\": 0, \"ticks\": \"\"}}, \"type\": \"scatter3d\"}], \"scattercarpet\": [{\"marker\": {\"colorbar\": {\"outlinewidth\": 0, \"ticks\": \"\"}}, \"type\": \"scattercarpet\"}], \"scattergeo\": [{\"marker\": {\"colorbar\": {\"outlinewidth\": 0, \"ticks\": \"\"}}, \"type\": \"scattergeo\"}], \"scattergl\": [{\"marker\": {\"colorbar\": {\"outlinewidth\": 0, \"ticks\": \"\"}}, \"type\": \"scattergl\"}], \"scattermapbox\": [{\"marker\": {\"colorbar\": {\"outlinewidth\": 0, \"ticks\": \"\"}}, \"type\": \"scattermapbox\"}], \"scatterpolar\": [{\"marker\": {\"colorbar\": {\"outlinewidth\": 0, \"ticks\": \"\"}}, \"type\": \"scatterpolar\"}], \"scatterpolargl\": [{\"marker\": {\"colorbar\": {\"outlinewidth\": 0, \"ticks\": \"\"}}, \"type\": \"scatterpolargl\"}], \"scatterternary\": [{\"marker\": {\"colorbar\": {\"outlinewidth\": 0, \"ticks\": \"\"}}, \"type\": \"scatterternary\"}], \"surface\": [{\"colorbar\": {\"outlinewidth\": 0, \"ticks\": \"\"}, \"colorscale\": [[0.0, \"#0d0887\"], [0.1111111111111111, \"#46039f\"], [0.2222222222222222, \"#7201a8\"], [0.3333333333333333, \"#9c179e\"], [0.4444444444444444, \"#bd3786\"], [0.5555555555555556, \"#d8576b\"], [0.6666666666666666, \"#ed7953\"], [0.7777777777777778, \"#fb9f3a\"], [0.8888888888888888, \"#fdca26\"], [1.0, \"#f0f921\"]], \"type\": \"surface\"}], \"table\": [{\"cells\": {\"fill\": {\"color\": \"#EBF0F8\"}, \"line\": {\"color\": \"white\"}}, \"header\": {\"fill\": {\"color\": \"#C8D4E3\"}, \"line\": {\"color\": \"white\"}}, \"type\": \"table\"}]}, \"layout\": {\"annotationdefaults\": {\"arrowcolor\": \"#2a3f5f\", \"arrowhead\": 0, \"arrowwidth\": 1}, \"coloraxis\": {\"colorbar\": {\"outlinewidth\": 0, \"ticks\": \"\"}}, \"colorscale\": {\"diverging\": [[0, \"#8e0152\"], [0.1, \"#c51b7d\"], [0.2, \"#de77ae\"], [0.3, \"#f1b6da\"], [0.4, \"#fde0ef\"], [0.5, \"#f7f7f7\"], [0.6, \"#e6f5d0\"], [0.7, \"#b8e186\"], [0.8, \"#7fbc41\"], [0.9, \"#4d9221\"], [1, \"#276419\"]], \"sequential\": [[0.0, \"#0d0887\"], [0.1111111111111111, \"#46039f\"], [0.2222222222222222, \"#7201a8\"], [0.3333333333333333, \"#9c179e\"], [0.4444444444444444, \"#bd3786\"], [0.5555555555555556, \"#d8576b\"], [0.6666666666666666, \"#ed7953\"], [0.7777777777777778, \"#fb9f3a\"], [0.8888888888888888, \"#fdca26\"], [1.0, \"#f0f921\"]], \"sequentialminus\": [[0.0, \"#0d0887\"], [0.1111111111111111, \"#46039f\"], [0.2222222222222222, \"#7201a8\"], [0.3333333333333333, \"#9c179e\"], [0.4444444444444444, \"#bd3786\"], [0.5555555555555556, \"#d8576b\"], [0.6666666666666666, \"#ed7953\"], [0.7777777777777778, \"#fb9f3a\"], [0.8888888888888888, \"#fdca26\"], [1.0, \"#f0f921\"]]}, \"colorway\": [\"#636efa\", \"#EF553B\", \"#00cc96\", \"#ab63fa\", \"#FFA15A\", \"#19d3f3\", \"#FF6692\", \"#B6E880\", \"#FF97FF\", \"#FECB52\"], \"font\": {\"color\": \"#2a3f5f\"}, \"geo\": {\"bgcolor\": \"white\", \"lakecolor\": \"white\", \"landcolor\": \"#E5ECF6\", \"showlakes\": true, \"showland\": true, \"subunitcolor\": \"white\"}, \"hoverlabel\": {\"align\": \"left\"}, \"hovermode\": \"closest\", \"mapbox\": {\"style\": \"light\"}, \"paper_bgcolor\": \"white\", \"plot_bgcolor\": \"#E5ECF6\", \"polar\": {\"angularaxis\": {\"gridcolor\": \"white\", \"linecolor\": \"white\", \"ticks\": \"\"}, \"bgcolor\": \"#E5ECF6\", \"radialaxis\": {\"gridcolor\": \"white\", \"linecolor\": \"white\", \"ticks\": \"\"}}, \"scene\": {\"xaxis\": {\"backgroundcolor\": \"#E5ECF6\", \"gridcolor\": \"white\", \"gridwidth\": 2, \"linecolor\": \"white\", \"showbackground\": true, \"ticks\": \"\", \"zerolinecolor\": \"white\"}, \"yaxis\": {\"backgroundcolor\": \"#E5ECF6\", \"gridcolor\": \"white\", \"gridwidth\": 2, \"linecolor\": \"white\", \"showbackground\": true, \"ticks\": \"\", \"zerolinecolor\": \"white\"}, \"zaxis\": {\"backgroundcolor\": \"#E5ECF6\", \"gridcolor\": \"white\", \"gridwidth\": 2, \"linecolor\": \"white\", \"showbackground\": true, \"ticks\": \"\", \"zerolinecolor\": \"white\"}}, \"shapedefaults\": {\"line\": {\"color\": \"#2a3f5f\"}}, \"ternary\": {\"aaxis\": {\"gridcolor\": \"white\", \"linecolor\": \"white\", \"ticks\": \"\"}, \"baxis\": {\"gridcolor\": \"white\", \"linecolor\": \"white\", \"ticks\": \"\"}, \"bgcolor\": \"#E5ECF6\", \"caxis\": {\"gridcolor\": \"white\", \"linecolor\": \"white\", \"ticks\": \"\"}}, \"title\": {\"x\": 0.05}, \"xaxis\": {\"automargin\": true, \"gridcolor\": \"white\", \"linecolor\": \"white\", \"ticks\": \"\", \"title\": {\"standoff\": 15}, \"zerolinecolor\": \"white\", \"zerolinewidth\": 2}, \"yaxis\": {\"automargin\": true, \"gridcolor\": \"white\", \"linecolor\": \"white\", \"ticks\": \"\", \"title\": {\"standoff\": 15}, \"zerolinecolor\": \"white\", \"zerolinewidth\": 2}}}},\n",
       "                        {\"responsive\": true}\n",
       "                    ).then(function(){\n",
       "                            \n",
       "var gd = document.getElementById('e2720d52-b815-4da3-a805-b54fb9684f5e');\n",
       "var x = new MutationObserver(function (mutations, observer) {{\n",
       "        var display = window.getComputedStyle(gd).display;\n",
       "        if (!display || display === 'none') {{\n",
       "            console.log([gd, 'removed!']);\n",
       "            Plotly.purge(gd);\n",
       "            observer.disconnect();\n",
       "        }}\n",
       "}});\n",
       "\n",
       "// Listen for the removal of the full notebook cells\n",
       "var notebookContainer = gd.closest('#notebook-container');\n",
       "if (notebookContainer) {{\n",
       "    x.observe(notebookContainer, {childList: true});\n",
       "}}\n",
       "\n",
       "// Listen for the clearing of the current output cell\n",
       "var outputEl = gd.closest('.output');\n",
       "if (outputEl) {{\n",
       "    x.observe(outputEl, {childList: true});\n",
       "}}\n",
       "\n",
       "                        })\n",
       "                };\n",
       "                });\n",
       "            </script>\n",
       "        </div>"
      ]
     },
     "metadata": {},
     "output_type": "display_data"
    }
   ],
   "source": [
    "yard_power=0.9144\n",
    "n_points=1000\n",
    "angles=2*np.pi/n_points*np.arange(0, n_points)\n",
    "X_angles = scaler.transform(pd.DataFrame([np.full(len(angles),yard_power),np.cos(2*angles),np.sin(2*angles),np.cos(angles),np.sin(angles)]).T)\n",
    "result_angles=np.log10(model.predict(X_angles, verbose=1).flatten())*20\n",
    "result_angles-=result_angles.max()-30\n",
    "import plotly.express as px\n",
    "px.line_polar(r=result_angles, theta=angles*180/np.pi, line_close=True)"
   ]
  },
  {
   "cell_type": "code",
   "execution_count": null,
   "metadata": {},
   "outputs": [],
   "source": [
    "#df[df['TIMESTAMP'] <= df['TIMESTAMP'].iloc[0]+pd.Timedelta(2,'D')]\n",
    "graph=df.sample(n=100)\n",
    "px.line(graph['TIMESTAMP'],graph['RSSI'])"
   ]
  },
  {
   "cell_type": "code",
   "execution_count": null,
   "metadata": {},
   "outputs": [],
   "source": [
    "df"
   ]
  }
 ],
 "metadata": {
  "kernelspec": {
   "display_name": "Python 3",
   "language": "python",
   "name": "python3"
  },
  "language_info": {
   "codemirror_mode": {
    "name": "ipython",
    "version": 3
   },
   "file_extension": ".py",
   "mimetype": "text/x-python",
   "name": "python",
   "nbconvert_exporter": "python",
   "pygments_lexer": "ipython3",
   "version": "3.7.4"
  }
 },
 "nbformat": 4,
 "nbformat_minor": 2
}
