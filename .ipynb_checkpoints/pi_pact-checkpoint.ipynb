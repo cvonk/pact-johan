{
 "cells": [
  {
   "cell_type": "code",
   "execution_count": 1,
   "metadata": {},
   "outputs": [],
   "source": [
    "# Copyright © 2020, Johan Vonk\n",
    "# SPDX-License-Identifier: MIT"
   ]
  },
  {
   "cell_type": "code",
   "execution_count": 2,
   "metadata": {},
   "outputs": [],
   "source": [
    "%matplotlib inline\n",
    "import numpy as np\n",
    "import pandas as pd\n",
    "import math\n",
    "import random\n",
    "import matplotlib.pyplot as plt\n",
    "from sklearn.manifold import MDS\n",
    "from sklearn.metrics import pairwise_distances\n",
    "import paho.mqtt.client as mqtt\n",
    "from threading import Timer\n",
    "import json\n",
    "from config import username, password"
   ]
  },
  {
   "cell_type": "code",
   "execution_count": 3,
   "metadata": {},
   "outputs": [
    {
     "data": {
      "text/plain": [
       "<matplotlib.quiver.Quiver at 0x194fa2916c8>"
      ]
     },
     "execution_count": 3,
     "metadata": {},
     "output_type": "execute_result"
    },
    {
     "data": {
      "image/png": "[encoded data removed]",
      "text/plain": [
       "<Figure size 432x288 with 1 Axes>"
      ]
     },
     "metadata": {
      "needs_background": "light"
     },
     "output_type": "display_data"
    }
   ],
   "source": [
    "measured=np.array([\n",
    "    [0, 37.9, 92.2, 95.2, 56.6, 95.5, 73.5, 56.7, 121.2, 73.9],\n",
    "    [0, 0, 54.7, 71.8, 44.4, 59.4, 41.6, 21.9, 89.5, 46.8],\n",
    "    [0, 0, 0, 60.3, 67.6, 27.3, 45.8, 42.3, 65.1, 43.5],\n",
    "    [0, 0, 0, 0, 40.4, 87.1, 94.8, 78.9, 125.4, 25.4],\n",
    "    [0, 0, 0, 0, 0, 86.9, 81.3, 61.5, 123.0, 28.0],\n",
    "    [0, 0, 0, 0, 0, 0, 29.1, 39.1, 28.3, 67.2],\n",
    "    [0, 0, 0, 0, 0, 0, 0, 20.6, 48.6, 70.0],\n",
    "    [0, 0, 0, 0, 0, 0, 0, 0, 67.6, 53.5],\n",
    "    [0, 0, 0, 0, 0, 0, 0, 0, 0, 105.5],\n",
    "    [0, 0, 0, 0, 0, 0, 0, 0, 0, 0],\n",
    "])\n",
    "measured*=0.0254\n",
    "measured+=measured.T\n",
    "model = MDS(n_components=2, metric=True, dissimilarity='precomputed', random_state=1, n_init=1000, max_iter=1000)\n",
    "positions = model.fit_transform(measured)\n",
    "positions -= positions[8]\n",
    "positions[:, 1]*=-1\n",
    "theta=np.radians(221)+math.atan2(positions[5,1],positions[5,0])\n",
    "positions=positions.dot([[np.cos(theta), -np.sin(theta)],\n",
    "                         [np.sin(theta),  np.cos(theta)]])\n",
    "positions[:,0]-=positions[3,0]\n",
    "angles=np.radians([18,9,-18,135,156,-59,-23,77,-90,62])\n",
    "plt.quiver(positions[:,0], positions[:,1], np.cos(angles), np.sin(angles))"
   ]
  },
  {
   "cell_type": "code",
   "execution_count": 4,
   "metadata": {},
   "outputs": [],
   "source": [
    "addresses=[\"30:AE:A4:CC:24:6A\",\"30:AE:A4:CC:32:4E\",\"AC:67:B2:53:82:8A\",\"AC:67:B2:53:7F:22\",\"AC:67:B2:53:84:82\",\"AC:67:B2:53:84:AA\",\"24:0A:C4:EB:36:8A\",\"AC:67:B2:53:93:1E\",\"AC67B25384B2\",\"AC67B2537B3A\"]\n",
    "devices=set()\n",
    "df=pd.DataFrame(columns=(\"TIMESTAMP\",\"SCANNER\",\"ADVERTISER\",\"TX POWER\",\"RSSI\",\"DISTANCE\",\"ANGLE\"))\n",
    "class RepeatTimer(Timer):\n",
    "    def run(self):\n",
    "        while not self.finished.wait(self.interval):\n",
    "            self.function(*self.args, **self.kwargs)\n",
    "\n",
    "def switch_devices(client, devices):\n",
    "    client.publish(\"blescan/ctrl\", payload=\"scan\")\n",
    "    advertiser=random.choice(tuple(devices))\n",
    "    client.publish(\"blescan/ctrl/\"+advertiser, payload=\"adv\")\n",
    "    print('ADVERTISING ON '+advertiser)\n",
    "\n",
    "def on_connect(client, userdata, flags, rc):\n",
    "    client.subscribe(\"blescan/ibeacon/#\")\n",
    "\n",
    "def on_message(client, userdata, msg):\n",
    "    source=msg.topic.rsplit('/', 1)[-1].upper()\n",
    "    devices.add(source)\n",
    "    json_line = json.loads(msg.payload.decode('ASCII').replace('\"\"','\"'))\n",
    "    json_line['Address']=json_line['Address'].upper()\n",
    "    if source in addresses and json_line[\"Address\"] in addresses:\n",
    "        sc_pos=positions[addresses.index(source)]\n",
    "        ad_pos=positions[addresses.index(json_line[\"Address\"])]\n",
    "        dx=sc_pos[0]-ad_pos[0]\n",
    "        dy=sc_pos[1]-ad_pos[1]\n",
    "        df.loc[len(df)]=[pd.Timestamp.now(),source,json_line[\"Address\"],json_line[\"txPwr\"],json_line[\"RSSI\"],math.sqrt(dx**2+dy**2),(math.atan2(dy,dx)-angles[addresses.index(json_line[\"Address\"])]+2*np.pi)%(2*np.pi)]\n",
    "\n",
    "client=mqtt.Client(\"reader\")\n",
    "client.on_connect = on_connect\n",
    "client.on_message = on_message\n",
    "client.connect('mqtt.vonk', 1883)\n",
    "client.username_pw_set(username=username,password=password)\n",
    "timer = RepeatTimer(60, switch_devices, args=(client,devices))\n",
    "try:\n",
    "    client.loop_start()\n",
    "    timer.start()\n",
    "except KeyboardInterrupt:\n",
    "    client.loop_stop()\n",
    "    timer.cancel()"
   ]
  },
  {
   "cell_type": "code",
   "execution_count": 6,
   "metadata": {},
   "outputs": [
    {
     "data": {
      "text/html": [
       "<div>\n",
       "<style scoped>\n",
       "    .dataframe tbody tr th:only-of-type {\n",
       "        vertical-align: middle;\n",
       "    }\n",
       "\n",
       "    .dataframe tbody tr th {\n",
       "        vertical-align: top;\n",
       "    }\n",
       "\n",
       "    .dataframe thead th {\n",
       "        text-align: right;\n",
       "    }\n",
       "</style>\n",
       "<table border=\"1\" class=\"dataframe\">\n",
       "  <thead>\n",
       "    <tr style=\"text-align: right;\">\n",
       "      <th></th>\n",
       "      <th>TIMESTAMP</th>\n",
       "      <th>SCANNER</th>\n",
       "      <th>ADVERTISER</th>\n",
       "      <th>TX POWER</th>\n",
       "      <th>RSSI</th>\n",
       "      <th>DISTANCE</th>\n",
       "      <th>ANGLE</th>\n",
       "    </tr>\n",
       "  </thead>\n",
       "  <tbody>\n",
       "  </tbody>\n",
       "</table>\n",
       "</div>"
      ],
      "text/plain": [
       "Empty DataFrame\n",
       "Columns: [TIMESTAMP, SCANNER, ADVERTISER, TX POWER, RSSI, DISTANCE, ANGLE]\n",
       "Index: []"
      ]
     },
     "execution_count": 6,
     "metadata": {},
     "output_type": "execute_result"
    },
    {
     "name": "stdout",
     "output_type": "stream",
     "text": [
      "ADVERTISING ON 240AC4EB368A\n"
     ]
    }
   ],
   "source": [
    "df"
   ]
  }
 ],
 "metadata": {
  "kernelspec": {
   "display_name": "Python 3",
   "language": "python",
   "name": "python3"
  },
  "language_info": {
   "codemirror_mode": {
    "name": "ipython",
    "version": 3
   },
   "file_extension": ".py",
   "mimetype": "text/x-python",
   "name": "python",
   "nbconvert_exporter": "python",
   "pygments_lexer": "ipython3",
   "version": "3.7.4"
  }
 },
 "nbformat": 4,
 "nbformat_minor": 2
}
